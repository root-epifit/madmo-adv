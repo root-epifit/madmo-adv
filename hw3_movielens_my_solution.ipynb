{
  "nbformat": 4,
  "nbformat_minor": 0,
  "metadata": {
    "colab": {
      "name": "hw3_movielens_my_solution.ipynb",
      "provenance": [],
      "collapsed_sections": [
        "sc4V13ojVA8x",
        "gxA9DhnrVA9W",
        "qgBGv8BZVA9m"
      ],
      "toc_visible": true,
      "include_colab_link": true
    },
    "kernelspec": {
      "display_name": "Python [conda env:ml-mipt]",
      "language": "python",
      "name": "conda-env-ml-mipt-py"
    },
    "language_info": {
      "codemirror_mode": {
        "name": "ipython",
        "version": 3
      },
      "file_extension": ".py",
      "mimetype": "text/x-python",
      "name": "python",
      "nbconvert_exporter": "python",
      "pygments_lexer": "ipython3",
      "version": "3.8.5"
    },
    "toc": {
      "base_numbering": 1,
      "nav_menu": {},
      "number_sections": true,
      "sideBar": true,
      "skip_h1_title": false,
      "title_cell": "Table of Contents",
      "title_sidebar": "Contents",
      "toc_cell": false,
      "toc_position": {},
      "toc_section_display": true,
      "toc_window_display": true
    }
  },
  "cells": [
    {
      "cell_type": "markdown",
      "metadata": {
        "id": "view-in-github",
        "colab_type": "text"
      },
      "source": [
        "<a href=\"https://colab.research.google.com/github/root-epifit/madmo-adv/blob/my_exercise/hw3_movielens_my_solution.ipynb\" target=\"_parent\"><img src=\"https://colab.research.google.com/assets/colab-badge.svg\" alt=\"Open In Colab\"/></a>"
      ]
    },
    {
      "cell_type": "markdown",
      "metadata": {
        "id": "aNefBwu1VA7M"
      },
      "source": [
        "# Рекомендательная система на базе датасета **movielens**"
      ]
    },
    {
      "cell_type": "markdown",
      "metadata": {
        "id": "59_iZqNkVA7S"
      },
      "source": [
        "Один из наиболее известных датасетов в мире рекомендательных систем - Movielens 25M, содержащий рейтинги к фильмам, оставленные различными пользователями на одноименном сайте https://movielens.org/.\n",
        "\n",
        "Мы будем использовать мини-версию датасета, содержащую 100 тысяч записей рейтингов фильмов."
      ]
    },
    {
      "cell_type": "markdown",
      "metadata": {
        "id": "7MTzoxulVA7V"
      },
      "source": [
        "## Загрузка данных"
      ]
    },
    {
      "cell_type": "markdown",
      "metadata": {
        "id": "I5fvYqJDVA7X"
      },
      "source": [
        "Для создания алгоритмов рекомендательной системы, будем использовать библиотеку **surprise**."
      ]
    },
    {
      "cell_type": "markdown",
      "metadata": {
        "id": "rt05w2p2VA7Z"
      },
      "source": [
        "Установим её, если она ещё не установлена на компьютер."
      ]
    },
    {
      "cell_type": "code",
      "metadata": {
        "ExecuteTime": {
          "end_time": "2021-05-19T21:44:04.713021Z",
          "start_time": "2021-05-19T21:43:39.695307Z"
        },
        "colab": {
          "base_uri": "https://localhost:8080/"
        },
        "id": "jZ0JToZrVA7c",
        "outputId": "9d0a3868-6c73-46d2-c7ac-2d34813cb808"
      },
      "source": [
        "!pip install scikit-surprise"
      ],
      "execution_count": 1,
      "outputs": [
        {
          "output_type": "stream",
          "name": "stdout",
          "text": [
            "Collecting scikit-surprise\n",
            "  Downloading scikit-surprise-1.1.1.tar.gz (11.8 MB)\n",
            "\u001b[K     |████████████████████████████████| 11.8 MB 27.6 MB/s \n",
            "\u001b[?25hRequirement already satisfied: joblib>=0.11 in /usr/local/lib/python3.7/dist-packages (from scikit-surprise) (1.1.0)\n",
            "Requirement already satisfied: numpy>=1.11.2 in /usr/local/lib/python3.7/dist-packages (from scikit-surprise) (1.19.5)\n",
            "Requirement already satisfied: scipy>=1.0.0 in /usr/local/lib/python3.7/dist-packages (from scikit-surprise) (1.4.1)\n",
            "Requirement already satisfied: six>=1.10.0 in /usr/local/lib/python3.7/dist-packages (from scikit-surprise) (1.15.0)\n",
            "Building wheels for collected packages: scikit-surprise\n",
            "  Building wheel for scikit-surprise (setup.py) ... \u001b[?25l\u001b[?25hdone\n",
            "  Created wheel for scikit-surprise: filename=scikit_surprise-1.1.1-cp37-cp37m-linux_x86_64.whl size=1619411 sha256=140a98f262dedb9eaf7e111d341d8fad953e4c5b8137900914d4039762dc8678\n",
            "  Stored in directory: /root/.cache/pip/wheels/76/44/74/b498c42be47b2406bd27994e16c5188e337c657025ab400c1c\n",
            "Successfully built scikit-surprise\n",
            "Installing collected packages: scikit-surprise\n",
            "Successfully installed scikit-surprise-1.1.1\n"
          ]
        }
      ]
    },
    {
      "cell_type": "code",
      "metadata": {
        "ExecuteTime": {
          "end_time": "2021-05-19T21:44:06.029598Z",
          "start_time": "2021-05-19T21:44:04.717362Z"
        },
        "id": "jpq1v5WTVA7n"
      },
      "source": [
        "from surprise import Dataset"
      ],
      "execution_count": 2,
      "outputs": []
    },
    {
      "cell_type": "markdown",
      "metadata": {
        "id": "78r_pDDhVA7v"
      },
      "source": [
        "Загружаем датасет из **surprise**"
      ]
    },
    {
      "cell_type": "code",
      "metadata": {
        "ExecuteTime": {
          "end_time": "2021-05-19T21:44:54.051477Z",
          "start_time": "2021-05-19T21:44:52.353186Z"
        },
        "id": "1eJDcXYDVA7x",
        "colab": {
          "base_uri": "https://localhost:8080/"
        },
        "outputId": "b378ccb5-323b-40f1-9266-98f1c06ead32"
      },
      "source": [
        "data = Dataset.load_builtin(\"ml-100k\", prompt=False)"
      ],
      "execution_count": 3,
      "outputs": [
        {
          "output_type": "stream",
          "name": "stdout",
          "text": [
            "Trying to download dataset from http://files.grouplens.org/datasets/movielens/ml-100k.zip...\n",
            "Done! Dataset ml-100k has been saved to /root/.surprise_data/ml-100k\n"
          ]
        }
      ]
    },
    {
      "cell_type": "markdown",
      "metadata": {
        "ExecuteTime": {
          "end_time": "2021-05-19T22:12:49.230638Z",
          "start_time": "2021-05-19T22:12:49.225985Z"
        },
        "id": "w0afDdq8LPgk"
      },
      "source": [
        "**Замечание для любителей настоящих данных**\n",
        "\n",
        "Вы можете попробовать загрузить полную верисю датасета (`'ml-1m'`) и попробовать сделать задание на нём.\n",
        "\n",
        "Но вычисления будут занимать большее количество времени (и требовать некоторого железа).\n",
        "\n",
        "За использование расширенного датасета не будет бонусов в оценке (да и результатах по большей части тоже) - только ваш энтузиазм."
      ]
    },
    {
      "cell_type": "markdown",
      "metadata": {
        "id": "M7FSaRcPVA74"
      },
      "source": [
        "## Визуализация данных"
      ]
    },
    {
      "cell_type": "markdown",
      "metadata": {
        "id": "_xcR-N4kVA76"
      },
      "source": [
        "Для удобной работы с данными загрузим библиотеку **pandas**"
      ]
    },
    {
      "cell_type": "code",
      "metadata": {
        "ExecuteTime": {
          "end_time": "2021-05-19T21:45:10.083388Z",
          "start_time": "2021-05-19T21:45:09.808012Z"
        },
        "id": "IbXPCvMzVA78"
      },
      "source": [
        "import pandas as pd"
      ],
      "execution_count": 4,
      "outputs": []
    },
    {
      "cell_type": "markdown",
      "metadata": {
        "id": "cBXvcnFRVA8J"
      },
      "source": [
        "Преобразуем данные к формату **pandas DataFrame**, для удобной работы с ними:"
      ]
    },
    {
      "cell_type": "code",
      "metadata": {
        "ExecuteTime": {
          "end_time": "2021-05-19T21:45:10.722512Z",
          "start_time": "2021-05-19T21:45:10.679709Z"
        },
        "id": "4c78lO-xVA8L"
      },
      "source": [
        "df = pd.DataFrame(data.raw_ratings, columns=[\"userId\", \"movieId\", \"rating\", \"timestamp\"])"
      ],
      "execution_count": 5,
      "outputs": []
    },
    {
      "cell_type": "code",
      "metadata": {
        "ExecuteTime": {
          "end_time": "2021-05-19T21:45:11.315222Z",
          "start_time": "2021-05-19T21:45:11.296874Z"
        },
        "colab": {
          "base_uri": "https://localhost:8080/",
          "height": 363
        },
        "id": "z8iZfdnZVA8S",
        "outputId": "7b5ebc5d-10f9-40e4-b8d0-466fe2e3d2f7"
      },
      "source": [
        "df.head(10)"
      ],
      "execution_count": 6,
      "outputs": [
        {
          "output_type": "execute_result",
          "data": {
            "text/html": [
              "<div>\n",
              "<style scoped>\n",
              "    .dataframe tbody tr th:only-of-type {\n",
              "        vertical-align: middle;\n",
              "    }\n",
              "\n",
              "    .dataframe tbody tr th {\n",
              "        vertical-align: top;\n",
              "    }\n",
              "\n",
              "    .dataframe thead th {\n",
              "        text-align: right;\n",
              "    }\n",
              "</style>\n",
              "<table border=\"1\" class=\"dataframe\">\n",
              "  <thead>\n",
              "    <tr style=\"text-align: right;\">\n",
              "      <th></th>\n",
              "      <th>userId</th>\n",
              "      <th>movieId</th>\n",
              "      <th>rating</th>\n",
              "      <th>timestamp</th>\n",
              "    </tr>\n",
              "  </thead>\n",
              "  <tbody>\n",
              "    <tr>\n",
              "      <th>0</th>\n",
              "      <td>196</td>\n",
              "      <td>242</td>\n",
              "      <td>3.0</td>\n",
              "      <td>881250949</td>\n",
              "    </tr>\n",
              "    <tr>\n",
              "      <th>1</th>\n",
              "      <td>186</td>\n",
              "      <td>302</td>\n",
              "      <td>3.0</td>\n",
              "      <td>891717742</td>\n",
              "    </tr>\n",
              "    <tr>\n",
              "      <th>2</th>\n",
              "      <td>22</td>\n",
              "      <td>377</td>\n",
              "      <td>1.0</td>\n",
              "      <td>878887116</td>\n",
              "    </tr>\n",
              "    <tr>\n",
              "      <th>3</th>\n",
              "      <td>244</td>\n",
              "      <td>51</td>\n",
              "      <td>2.0</td>\n",
              "      <td>880606923</td>\n",
              "    </tr>\n",
              "    <tr>\n",
              "      <th>4</th>\n",
              "      <td>166</td>\n",
              "      <td>346</td>\n",
              "      <td>1.0</td>\n",
              "      <td>886397596</td>\n",
              "    </tr>\n",
              "    <tr>\n",
              "      <th>5</th>\n",
              "      <td>298</td>\n",
              "      <td>474</td>\n",
              "      <td>4.0</td>\n",
              "      <td>884182806</td>\n",
              "    </tr>\n",
              "    <tr>\n",
              "      <th>6</th>\n",
              "      <td>115</td>\n",
              "      <td>265</td>\n",
              "      <td>2.0</td>\n",
              "      <td>881171488</td>\n",
              "    </tr>\n",
              "    <tr>\n",
              "      <th>7</th>\n",
              "      <td>253</td>\n",
              "      <td>465</td>\n",
              "      <td>5.0</td>\n",
              "      <td>891628467</td>\n",
              "    </tr>\n",
              "    <tr>\n",
              "      <th>8</th>\n",
              "      <td>305</td>\n",
              "      <td>451</td>\n",
              "      <td>3.0</td>\n",
              "      <td>886324817</td>\n",
              "    </tr>\n",
              "    <tr>\n",
              "      <th>9</th>\n",
              "      <td>6</td>\n",
              "      <td>86</td>\n",
              "      <td>3.0</td>\n",
              "      <td>883603013</td>\n",
              "    </tr>\n",
              "  </tbody>\n",
              "</table>\n",
              "</div>"
            ],
            "text/plain": [
              "  userId movieId  rating  timestamp\n",
              "0    196     242     3.0  881250949\n",
              "1    186     302     3.0  891717742\n",
              "2     22     377     1.0  878887116\n",
              "3    244      51     2.0  880606923\n",
              "4    166     346     1.0  886397596\n",
              "5    298     474     4.0  884182806\n",
              "6    115     265     2.0  881171488\n",
              "7    253     465     5.0  891628467\n",
              "8    305     451     3.0  886324817\n",
              "9      6      86     3.0  883603013"
            ]
          },
          "metadata": {},
          "execution_count": 6
        }
      ]
    },
    {
      "cell_type": "markdown",
      "metadata": {
        "id": "8lk_aMC6VA8a"
      },
      "source": [
        "*  Колонка **userId** - идентификаторы пользователей сайта movielens;\n",
        "*  Колонка **movieId** - идентификаторы фильмов;\n",
        "*  Колонка **rating** - оценки фильмов пользователями по шкале от 1 до 5;\n",
        "*  Колонка **timestamp** - это время оценки фильма пользователем. Данный формат представления времени показывает, сколько секунд прошло с 1 января 1970 года."
      ]
    },
    {
      "cell_type": "markdown",
      "metadata": {
        "id": "cGXqlWpiVA8c"
      },
      "source": [
        "Мы можем посмотреть, сколько уникальных значений находится в каждой из колонок."
      ]
    },
    {
      "cell_type": "code",
      "metadata": {
        "ExecuteTime": {
          "end_time": "2021-05-19T22:02:35.215890Z",
          "start_time": "2021-05-19T22:02:35.136012Z"
        },
        "colab": {
          "base_uri": "https://localhost:8080/"
        },
        "id": "VwB6SrRHVA8e",
        "outputId": "8988e37a-5dce-4f38-eea1-e8010fd5309f"
      },
      "source": [
        "df.apply(\"nunique\")"
      ],
      "execution_count": 7,
      "outputs": [
        {
          "output_type": "execute_result",
          "data": {
            "text/plain": [
              "userId         943\n",
              "movieId       1682\n",
              "rating           5\n",
              "timestamp    49282\n",
              "dtype: int64"
            ]
          },
          "metadata": {},
          "execution_count": 7
        }
      ]
    },
    {
      "cell_type": "code",
      "metadata": {
        "colab": {
          "base_uri": "https://localhost:8080/"
        },
        "id": "4nRUYzukL4xO",
        "outputId": "7cf28cde-0f1a-4815-e411-ff7517748cd2"
      },
      "source": [
        "# userId, moveId, timestamp - string\n",
        "df.dtypes"
      ],
      "execution_count": 8,
      "outputs": [
        {
          "output_type": "execute_result",
          "data": {
            "text/plain": [
              "userId        object\n",
              "movieId       object\n",
              "rating       float64\n",
              "timestamp     object\n",
              "dtype: object"
            ]
          },
          "metadata": {},
          "execution_count": 8
        }
      ]
    },
    {
      "cell_type": "code",
      "metadata": {
        "colab": {
          "base_uri": "https://localhost:8080/"
        },
        "id": "r2DDVWKRMvGv",
        "outputId": "1b96c41e-6e0b-4b95-d48b-35dc088978c6"
      },
      "source": [
        "print(df[['userId', 'movieId', 'timestamp']].astype('int').nunique())\n",
        "df.rating.count()"
      ],
      "execution_count": 9,
      "outputs": [
        {
          "output_type": "stream",
          "name": "stdout",
          "text": [
            "userId         943\n",
            "movieId       1682\n",
            "timestamp    49282\n",
            "dtype: int64\n"
          ]
        },
        {
          "output_type": "execute_result",
          "data": {
            "text/plain": [
              "100000"
            ]
          },
          "metadata": {},
          "execution_count": 9
        }
      ]
    },
    {
      "cell_type": "markdown",
      "metadata": {
        "id": "gdNUHvGaVA8l"
      },
      "source": [
        "Для корректной работы с графиками в python требуется загрузить специальную библиотеку\n",
        "**matplotlib**, программную библиотеку на языке python для визуализации данных двумерной и трехмерной графикой."
      ]
    },
    {
      "cell_type": "markdown",
      "metadata": {
        "id": "Tmcpr7aiVA8r"
      },
      "source": [
        "Посмотрим наглядно, как часто в датасете встречаются разные оценки:"
      ]
    },
    {
      "cell_type": "code",
      "metadata": {
        "ExecuteTime": {
          "end_time": "2021-05-19T22:02:37.345997Z",
          "start_time": "2021-05-19T22:02:37.184180Z"
        },
        "colab": {
          "base_uri": "https://localhost:8080/",
          "height": 281
        },
        "id": "3XYMil_AVA8s",
        "outputId": "5075d8b3-4206-429f-cab7-bcbd3e73b3c1"
      },
      "source": [
        "df[\"rating\"].value_counts().sort_index().plot.bar(title=\"Распределение рейтингов\", rot=0);"
      ],
      "execution_count": 10,
      "outputs": [
        {
          "output_type": "display_data",
          "data": {
            "image/png": "[encoded data removed]",
            "text/plain": [
              "<Figure size 432x288 with 1 Axes>"
            ]
          },
          "metadata": {
            "needs_background": "light"
          }
        }
      ]
    },
    {
      "cell_type": "markdown",
      "metadata": {
        "id": "sc4V13ojVA8x"
      },
      "source": [
        "## Разбиение выборки на обучающую и тестовую"
      ]
    },
    {
      "cell_type": "markdown",
      "metadata": {
        "id": "feldOglfVA8z"
      },
      "source": [
        "Библиотека **surprise** высокоуровневая, и позволяет нам разбить данные на обучающую и тестовую выборки всего одной функцией **train_test_split()**"
      ]
    },
    {
      "cell_type": "code",
      "metadata": {
        "ExecuteTime": {
          "end_time": "2021-05-19T22:02:38.425837Z",
          "start_time": "2021-05-19T22:02:38.423431Z"
        },
        "id": "wj01SJESVA80"
      },
      "source": [
        "from surprise.model_selection import train_test_split"
      ],
      "execution_count": 11,
      "outputs": []
    },
    {
      "cell_type": "markdown",
      "metadata": {
        "id": "oapSXAZ2VA84"
      },
      "source": [
        "Функция **train_test_split()** принимает на вход два параметра:\n",
        "*  **data** - данные\n",
        "*  **test_size** - доля тестовой выборки. Укажем 0,25, чтобы тестовая выборка составляла 25% от всей выборки."
      ]
    },
    {
      "cell_type": "code",
      "metadata": {
        "ExecuteTime": {
          "end_time": "2021-05-19T22:02:39.800246Z",
          "start_time": "2021-05-19T22:02:39.639654Z"
        },
        "id": "tL12glA_VA85"
      },
      "source": [
        "trainset, testset = train_test_split(data, test_size=0.25)"
      ],
      "execution_count": 12,
      "outputs": []
    },
    {
      "cell_type": "markdown",
      "metadata": {
        "id": "yHxIWnc1LPgr"
      },
      "source": [
        "# Задание 1\n",
        "\n",
        "Проведите исследование данных (exploratory data analysis, EDA).\n",
        "\n",
        "Выясните:\n",
        "\n",
        "1. Сколько оценок в среднем поставил один человек (и какова выборочная дисперсия этой величины)\n",
        "2. Сколько оценок в среднем имеет один фильм (+дисперсия)\n",
        "\n",
        "Также для каждой из этих величин постройте гистограму (или violin plot) распределения чтобы увидеть картину целиком. Возможно вам понадобится использовать логарифмический масштаб осей (эту настройку можно передать в matplotlib)."
      ]
    },
    {
      "cell_type": "code",
      "metadata": {
        "ExecuteTime": {
          "end_time": "2021-05-19T22:02:40.697202Z",
          "start_time": "2021-05-19T22:02:40.695626Z"
        },
        "id": "_4MBMkwPLPgr"
      },
      "source": [
        "# Ваш код тут\n"
      ],
      "execution_count": 13,
      "outputs": []
    },
    {
      "cell_type": "markdown",
      "metadata": {
        "id": "E6quoIV-P0yN"
      },
      "source": [
        "###### 1. Сколько оценок в среднем поставил один человек и дисперсия этой величины"
      ]
    },
    {
      "cell_type": "code",
      "metadata": {
        "colab": {
          "base_uri": "https://localhost:8080/",
          "height": 406
        },
        "id": "ntNM7a9mSd11",
        "outputId": "42a76366-b139-4545-e077-1b9660616049"
      },
      "source": [
        "from matplotlib import pyplot as plt\n",
        "\n",
        "dfc = pd.DataFrame(\n",
        "    df[['userId','movieId']].\n",
        "    astype('int').\n",
        "    groupby('userId')['userId'].\n",
        "    count()).rename(columns = {'userId':'Counts'})\n",
        "\n",
        "print(\"\")\n",
        "print(f\"Mean        number of reviews/person: {dfc.mean()[0]:.0f}\")\n",
        "print(f\"Variance                            : {dfc.var()[0]:.3f}\")\n",
        "print(f\"Stabdard deviation                  : {dfc.std()[0]:.3f}\")\n",
        "print(\"\")\n",
        "\n",
        "\n",
        "# Визуализация\n",
        "fig, axs = plt.subplots(nrows = 1, ncols = 2, figsize=(10,4), tight_layout = True)\n",
        "axs = axs.flatten()\n",
        "\n",
        "plt.title(\"Distribution of numbers of reviews/person\")\n",
        "\n",
        "dfc.hist(ax = axs[0], column='Counts',  bins = 100, log=True)\n",
        "axs[0].set_xlabel(\"Num of reviews/person\")\n",
        "axs[0].set_ylabel(\"log(Num of persons)\")\n",
        "axs[0].set_title(\"Logarithmic scale\")\n",
        "\n",
        "dfc.hist(ax = axs[1], column='Counts',  bins = 100, log=False)\n",
        "axs[1].set_xlabel(\"Num of reviews/person\")\n",
        "axs[1].set_ylabel(\"Num of persons)\")\n",
        "axs[1].set_title(\"Normal scale\")"
      ],
      "execution_count": 92,
      "outputs": [
        {
          "output_type": "stream",
          "name": "stdout",
          "text": [
            "\n",
            "Mean        number of reviews/person: 106\n",
            "Variance                            : 10187.217\n",
            "Stabdard deviation                  : 100.932\n",
            "\n"
          ]
        },
        {
          "output_type": "execute_result",
          "data": {
            "text/plain": [
              "Text(0.5, 1.0, 'Normal scale')"
            ]
          },
          "metadata": {},
          "execution_count": 92
        },
        {
          "output_type": "display_data",
          "data": {
            "image/png": "[encoded data removed]",
            "text/plain": [
              "<Figure size 720x288 with 2 Axes>"
            ]
          },
          "metadata": {
            "needs_background": "light"
          }
        }
      ]
    },
    {
      "cell_type": "markdown",
      "metadata": {
        "id": "ZMYsRjB_qzbg"
      },
      "source": [
        "####### 2. Сколько оценок в среднем имеет один фильм (+дисперсия)"
      ]
    },
    {
      "cell_type": "code",
      "metadata": {
        "id": "ZmhQ8A-YkRma"
      },
      "source": [
        ""
      ],
      "execution_count": null,
      "outputs": []
    },
    {
      "cell_type": "code",
      "metadata": {
        "colab": {
          "base_uri": "https://localhost:8080/",
          "height": 455
        },
        "id": "8cv5cZNli2aV",
        "outputId": "a0f3ef6b-c492-4067-d9f9-822b40e81700"
      },
      "source": [
        "dfc"
      ],
      "execution_count": 63,
      "outputs": [
        {
          "output_type": "execute_result",
          "data": {
            "text/html": [
              "<div>\n",
              "<style scoped>\n",
              "    .dataframe tbody tr th:only-of-type {\n",
              "        vertical-align: middle;\n",
              "    }\n",
              "\n",
              "    .dataframe tbody tr th {\n",
              "        vertical-align: top;\n",
              "    }\n",
              "\n",
              "    .dataframe thead th {\n",
              "        text-align: right;\n",
              "    }\n",
              "</style>\n",
              "<table border=\"1\" class=\"dataframe\">\n",
              "  <thead>\n",
              "    <tr style=\"text-align: right;\">\n",
              "      <th></th>\n",
              "      <th>Counts</th>\n",
              "    </tr>\n",
              "    <tr>\n",
              "      <th>userId</th>\n",
              "      <th></th>\n",
              "    </tr>\n",
              "  </thead>\n",
              "  <tbody>\n",
              "    <tr>\n",
              "      <th>1</th>\n",
              "      <td>272</td>\n",
              "    </tr>\n",
              "    <tr>\n",
              "      <th>2</th>\n",
              "      <td>62</td>\n",
              "    </tr>\n",
              "    <tr>\n",
              "      <th>3</th>\n",
              "      <td>54</td>\n",
              "    </tr>\n",
              "    <tr>\n",
              "      <th>4</th>\n",
              "      <td>24</td>\n",
              "    </tr>\n",
              "    <tr>\n",
              "      <th>5</th>\n",
              "      <td>175</td>\n",
              "    </tr>\n",
              "    <tr>\n",
              "      <th>...</th>\n",
              "      <td>...</td>\n",
              "    </tr>\n",
              "    <tr>\n",
              "      <th>939</th>\n",
              "      <td>49</td>\n",
              "    </tr>\n",
              "    <tr>\n",
              "      <th>940</th>\n",
              "      <td>107</td>\n",
              "    </tr>\n",
              "    <tr>\n",
              "      <th>941</th>\n",
              "      <td>22</td>\n",
              "    </tr>\n",
              "    <tr>\n",
              "      <th>942</th>\n",
              "      <td>79</td>\n",
              "    </tr>\n",
              "    <tr>\n",
              "      <th>943</th>\n",
              "      <td>168</td>\n",
              "    </tr>\n",
              "  </tbody>\n",
              "</table>\n",
              "<p>943 rows × 1 columns</p>\n",
              "</div>"
            ],
            "text/plain": [
              "        Counts\n",
              "userId        \n",
              "1          272\n",
              "2           62\n",
              "3           54\n",
              "4           24\n",
              "5          175\n",
              "...        ...\n",
              "939         49\n",
              "940        107\n",
              "941         22\n",
              "942         79\n",
              "943        168\n",
              "\n",
              "[943 rows x 1 columns]"
            ]
          },
          "metadata": {},
          "execution_count": 63
        }
      ]
    },
    {
      "cell_type": "code",
      "metadata": {
        "colab": {
          "base_uri": "https://localhost:8080/",
          "height": 424
        },
        "id": "NdGE_Fnshx7N",
        "outputId": "119f9ba5-e49d-4684-c869-317d03ced3c3"
      },
      "source": [
        "dfc.value_counts().reset_index()#[].hist()"
      ],
      "execution_count": 15,
      "outputs": [
        {
          "output_type": "execute_result",
          "data": {
            "text/html": [
              "<div>\n",
              "<style scoped>\n",
              "    .dataframe tbody tr th:only-of-type {\n",
              "        vertical-align: middle;\n",
              "    }\n",
              "\n",
              "    .dataframe tbody tr th {\n",
              "        vertical-align: top;\n",
              "    }\n",
              "\n",
              "    .dataframe thead th {\n",
              "        text-align: right;\n",
              "    }\n",
              "</style>\n",
              "<table border=\"1\" class=\"dataframe\">\n",
              "  <thead>\n",
              "    <tr style=\"text-align: right;\">\n",
              "      <th></th>\n",
              "      <th>Counts</th>\n",
              "      <th>0</th>\n",
              "    </tr>\n",
              "  </thead>\n",
              "  <tbody>\n",
              "    <tr>\n",
              "      <th>0</th>\n",
              "      <td>20</td>\n",
              "      <td>32</td>\n",
              "    </tr>\n",
              "    <tr>\n",
              "      <th>1</th>\n",
              "      <td>21</td>\n",
              "      <td>24</td>\n",
              "    </tr>\n",
              "    <tr>\n",
              "      <th>2</th>\n",
              "      <td>22</td>\n",
              "      <td>23</td>\n",
              "    </tr>\n",
              "    <tr>\n",
              "      <th>3</th>\n",
              "      <td>23</td>\n",
              "      <td>21</td>\n",
              "    </tr>\n",
              "    <tr>\n",
              "      <th>4</th>\n",
              "      <td>24</td>\n",
              "      <td>21</td>\n",
              "    </tr>\n",
              "    <tr>\n",
              "      <th>...</th>\n",
              "      <td>...</td>\n",
              "      <td>...</td>\n",
              "    </tr>\n",
              "    <tr>\n",
              "      <th>274</th>\n",
              "      <td>134</td>\n",
              "      <td>1</td>\n",
              "    </tr>\n",
              "    <tr>\n",
              "      <th>275</th>\n",
              "      <td>240</td>\n",
              "      <td>1</td>\n",
              "    </tr>\n",
              "    <tr>\n",
              "      <th>276</th>\n",
              "      <td>239</td>\n",
              "      <td>1</td>\n",
              "    </tr>\n",
              "    <tr>\n",
              "      <th>277</th>\n",
              "      <td>238</td>\n",
              "      <td>1</td>\n",
              "    </tr>\n",
              "    <tr>\n",
              "      <th>278</th>\n",
              "      <td>737</td>\n",
              "      <td>1</td>\n",
              "    </tr>\n",
              "  </tbody>\n",
              "</table>\n",
              "<p>279 rows × 2 columns</p>\n",
              "</div>"
            ],
            "text/plain": [
              "     Counts   0\n",
              "0        20  32\n",
              "1        21  24\n",
              "2        22  23\n",
              "3        23  21\n",
              "4        24  21\n",
              "..      ...  ..\n",
              "274     134   1\n",
              "275     240   1\n",
              "276     239   1\n",
              "277     238   1\n",
              "278     737   1\n",
              "\n",
              "[279 rows x 2 columns]"
            ]
          },
          "metadata": {},
          "execution_count": 15
        }
      ]
    },
    {
      "cell_type": "code",
      "metadata": {
        "colab": {
          "base_uri": "https://localhost:8080/",
          "height": 350
        },
        "id": "ZBSFNEiKfLmP",
        "outputId": "acace37f-a828-4688-fc83-66cfb532baa1"
      },
      "source": [
        "import matplotlib.ticker as ticker\n",
        "plt.xlabel('Reviews')\n",
        "plt.ylabel(\"Counts\")\n",
        "plt.title(\"Distribution of numbers of reviews\")\n",
        "\n",
        "ax = dfc.value_counts().sort_index().plot.density(figsize=(8,5) )\n",
        "\n",
        "#ax = dfc.value_counts().sort_index().plot(figsize=(8,5) )\n",
        "\n",
        "#ax.get_xaxis().get_major_formatter().set_useOffset(False)\n",
        "\n",
        "#ax.xaxis.set_major_locator(ticker.MultipleLocator(50))\n",
        "\n",
        "#ax.xaxis.set_major_locator(ticker.MaxNLocator( integer=True ) )\n",
        "\n",
        "#ax.xaxis.set_minor_locator(ticker.MultipleLocator(1))\n",
        "#ax.majorticks_on()"
      ],
      "execution_count": 59,
      "outputs": [
        {
          "output_type": "display_data",
          "data": {
            "image/png": "[encoded data removed]",
            "text/plain": [
              "<Figure size 576x360 with 1 Axes>"
            ]
          },
          "metadata": {
            "needs_background": "light"
          }
        }
      ]
    },
    {
      "cell_type": "code",
      "metadata": {
        "colab": {
          "base_uri": "https://localhost:8080/"
        },
        "id": "845RkSprY3BN",
        "outputId": "e7932410-9bea-4181-992b-7a3e6eebd2ae"
      },
      "source": [
        "dfc.value_counts().sort_index()"
      ],
      "execution_count": 37,
      "outputs": [
        {
          "output_type": "execute_result",
          "data": {
            "text/plain": [
              "Counts\n",
              "20        32\n",
              "21        24\n",
              "22        23\n",
              "23        21\n",
              "24        21\n",
              "          ..\n",
              "518        1\n",
              "540        1\n",
              "636        1\n",
              "685        1\n",
              "737        1\n",
              "Length: 279, dtype: int64"
            ]
          },
          "metadata": {},
          "execution_count": 37
        }
      ]
    },
    {
      "cell_type": "code",
      "metadata": {
        "colab": {
          "base_uri": "https://localhost:8080/"
        },
        "id": "4892VprfcSUu",
        "outputId": "97381b5e-373c-4339-8d1f-a88def47c9d4"
      },
      "source": [
        "print(dfc[ dfc['Counts'] <= 100 ].count())\n",
        "print(dfc[ (dfc['Counts'] > 100) & (dfc['Counts'] <= 200)  ].count())\n",
        "dfc.value_counts()"
      ],
      "execution_count": 169,
      "outputs": [
        {
          "output_type": "stream",
          "name": "stdout",
          "text": [
            "Counts    582\n",
            "dtype: int64\n",
            "Counts    213\n",
            "dtype: int64\n"
          ]
        },
        {
          "output_type": "execute_result",
          "data": {
            "text/plain": [
              "Counts\n",
              "20        32\n",
              "21        24\n",
              "22        23\n",
              "23        21\n",
              "24        21\n",
              "          ..\n",
              "134        1\n",
              "240        1\n",
              "239        1\n",
              "238        1\n",
              "737        1\n",
              "Length: 279, dtype: int64"
            ]
          },
          "metadata": {},
          "execution_count": 169
        }
      ]
    },
    {
      "cell_type": "code",
      "metadata": {
        "colab": {
          "base_uri": "https://localhost:8080/",
          "height": 237
        },
        "id": "y1ZGPxh4al0d",
        "outputId": "2943775a-e4be-4ec5-b97f-e8dc0416586b"
      },
      "source": [
        "dfc.sort_values('Counts').head()"
      ],
      "execution_count": 124,
      "outputs": [
        {
          "output_type": "execute_result",
          "data": {
            "text/html": [
              "<div>\n",
              "<style scoped>\n",
              "    .dataframe tbody tr th:only-of-type {\n",
              "        vertical-align: middle;\n",
              "    }\n",
              "\n",
              "    .dataframe tbody tr th {\n",
              "        vertical-align: top;\n",
              "    }\n",
              "\n",
              "    .dataframe thead th {\n",
              "        text-align: right;\n",
              "    }\n",
              "</style>\n",
              "<table border=\"1\" class=\"dataframe\">\n",
              "  <thead>\n",
              "    <tr style=\"text-align: right;\">\n",
              "      <th></th>\n",
              "      <th>Counts</th>\n",
              "    </tr>\n",
              "    <tr>\n",
              "      <th>userId</th>\n",
              "      <th></th>\n",
              "    </tr>\n",
              "  </thead>\n",
              "  <tbody>\n",
              "    <tr>\n",
              "      <th>202</th>\n",
              "      <td>20</td>\n",
              "    </tr>\n",
              "    <tr>\n",
              "      <th>441</th>\n",
              "      <td>20</td>\n",
              "    </tr>\n",
              "    <tr>\n",
              "      <th>685</th>\n",
              "      <td>20</td>\n",
              "    </tr>\n",
              "    <tr>\n",
              "      <th>34</th>\n",
              "      <td>20</td>\n",
              "    </tr>\n",
              "    <tr>\n",
              "      <th>36</th>\n",
              "      <td>20</td>\n",
              "    </tr>\n",
              "  </tbody>\n",
              "</table>\n",
              "</div>"
            ],
            "text/plain": [
              "        Counts\n",
              "userId        \n",
              "202         20\n",
              "441         20\n",
              "685         20\n",
              "34          20\n",
              "36          20"
            ]
          },
          "metadata": {},
          "execution_count": 124
        }
      ]
    },
    {
      "cell_type": "code",
      "metadata": {
        "colab": {
          "base_uri": "https://localhost:8080/",
          "height": 50
        },
        "id": "9J5LjmyKQAXj",
        "outputId": "073c1636-cd83-4e75-b6e3-5ab591fca556"
      },
      "source": [
        "pd.DataFrame(df.groupby('userId')['userId'].count()[:], columns=['s'])"
      ],
      "execution_count": 75,
      "outputs": [
        {
          "output_type": "execute_result",
          "data": {
            "text/html": [
              "<div>\n",
              "<style scoped>\n",
              "    .dataframe tbody tr th:only-of-type {\n",
              "        vertical-align: middle;\n",
              "    }\n",
              "\n",
              "    .dataframe tbody tr th {\n",
              "        vertical-align: top;\n",
              "    }\n",
              "\n",
              "    .dataframe thead th {\n",
              "        text-align: right;\n",
              "    }\n",
              "</style>\n",
              "<table border=\"1\" class=\"dataframe\">\n",
              "  <thead>\n",
              "    <tr style=\"text-align: right;\">\n",
              "      <th></th>\n",
              "      <th>s</th>\n",
              "    </tr>\n",
              "  </thead>\n",
              "  <tbody>\n",
              "  </tbody>\n",
              "</table>\n",
              "</div>"
            ],
            "text/plain": [
              "Empty DataFrame\n",
              "Columns: [s]\n",
              "Index: []"
            ]
          },
          "metadata": {},
          "execution_count": 75
        }
      ]
    },
    {
      "cell_type": "markdown",
      "metadata": {
        "id": "Pjk90jTfVA89"
      },
      "source": [
        "## Построение простой модели"
      ]
    },
    {
      "cell_type": "code",
      "metadata": {
        "ExecuteTime": {
          "end_time": "2021-05-19T22:02:41.561498Z",
          "start_time": "2021-05-19T22:02:41.559739Z"
        },
        "id": "R4bUU2_iVA8-"
      },
      "source": [
        "from surprise import SVD, KNNBasic, accuracy"
      ],
      "execution_count": 42,
      "outputs": []
    },
    {
      "cell_type": "markdown",
      "metadata": {
        "id": "wIrqEcYHVA9C"
      },
      "source": [
        "Инициализируем алгоритм. Алгоритм SVD - один из самых распространенных методов матричной факторизации (представления матрицы в виде произведения нескольких матриц). Такое представление позволяет анализировать похожие матрицы и раскладывать их на так называемые \"компоненты\". А так же, восстанавливая матрицы их этих компонент - заполнять недостающие значения (в нашем случае - оценки). Почитать можно здесь: http://www.albertauyeung.com/post/python-matrix-factorization/"
      ]
    },
    {
      "cell_type": "code",
      "metadata": {
        "ExecuteTime": {
          "end_time": "2021-05-19T22:02:42.425602Z",
          "start_time": "2021-05-19T22:02:42.423778Z"
        },
        "id": "U-C8PSgmVA9D"
      },
      "source": [
        "algo = SVD()"
      ],
      "execution_count": 43,
      "outputs": []
    },
    {
      "cell_type": "markdown",
      "metadata": {
        "id": "T46Qt-efVA9G"
      },
      "source": [
        "Тренируем на тренировочной выборке алгоритм."
      ]
    },
    {
      "cell_type": "code",
      "metadata": {
        "ExecuteTime": {
          "end_time": "2021-05-19T22:02:46.743669Z",
          "start_time": "2021-05-19T22:02:43.351791Z"
        },
        "id": "023_UmhzVA9I",
        "colab": {
          "base_uri": "https://localhost:8080/"
        },
        "outputId": "273c8ea0-093c-4494-d94e-30aa5623b1a6"
      },
      "source": [
        "algo.fit(trainset)"
      ],
      "execution_count": 44,
      "outputs": [
        {
          "output_type": "execute_result",
          "data": {
            "text/plain": [
              "<surprise.prediction_algorithms.matrix_factorization.SVD at 0x7f26e5487410>"
            ]
          },
          "metadata": {},
          "execution_count": 44
        }
      ]
    },
    {
      "cell_type": "markdown",
      "metadata": {
        "id": "PLr4X8_3VA9M"
      },
      "source": [
        "Делаем предсказание на тестовой выборке."
      ]
    },
    {
      "cell_type": "code",
      "metadata": {
        "ExecuteTime": {
          "end_time": "2021-05-19T22:02:46.889187Z",
          "start_time": "2021-05-19T22:02:46.745178Z"
        },
        "id": "bgtICWuYVA9N"
      },
      "source": [
        "predictions = algo.test(testset)"
      ],
      "execution_count": 45,
      "outputs": []
    },
    {
      "cell_type": "code",
      "metadata": {
        "ExecuteTime": {
          "end_time": "2021-05-19T22:02:46.935936Z",
          "start_time": "2021-05-19T22:02:46.891085Z"
        },
        "colab": {
          "base_uri": "https://localhost:8080/"
        },
        "id": "Vl2LGS6R_w5Y",
        "outputId": "caf988f2-ee71-4a58-e8ad-d9ba65cef1ab"
      },
      "source": [
        "testset"
      ],
      "execution_count": 46,
      "outputs": [
        {
          "output_type": "execute_result",
          "data": {
            "text/plain": [
              "[('287', '952', 4.0),\n",
              " ('457', '949', 3.0),\n",
              " ('880', '394', 3.0),\n",
              " ('812', '682', 4.0),\n",
              " ('253', '127', 5.0),\n",
              " ('648', '364', 5.0),\n",
              " ('918', '1065', 4.0),\n",
              " ('537', '615', 3.0),\n",
              " ('836', '793', 2.0),\n",
              " ('320', '62', 4.0),\n",
              " ('344', '228', 4.0),\n",
              " ('276', '80', 3.0),\n",
              " ('889', '290', 2.0),\n",
              " ('269', '274', 1.0),\n",
              " ('348', '107', 4.0),\n",
              " ('566', '121', 3.0),\n",
              " ('158', '803', 3.0),\n",
              " ('406', '732', 4.0),\n",
              " ('442', '195', 4.0),\n",
              " ('551', '824', 1.0),\n",
              " ('279', '195', 4.0),\n",
              " ('721', '358', 1.0),\n",
              " ('194', '387', 2.0),\n",
              " ('95', '739', 3.0),\n",
              " ('418', '327', 1.0),\n",
              " ('325', '71', 3.0),\n",
              " ('96', '519', 4.0),\n",
              " ('853', '259', 3.0),\n",
              " ('201', '79', 4.0),\n",
              " ('343', '252', 4.0),\n",
              " ('647', '197', 5.0),\n",
              " ('747', '187', 5.0),\n",
              " ('642', '560', 4.0),\n",
              " ('207', '787', 3.0),\n",
              " ('929', '517', 5.0),\n",
              " ('311', '1222', 3.0),\n",
              " ('711', '729', 3.0),\n",
              " ('606', '111', 4.0),\n",
              " ('660', '99', 2.0),\n",
              " ('897', '371', 2.0),\n",
              " ('321', '484', 5.0),\n",
              " ('506', '72', 3.0),\n",
              " ('268', '1002', 1.0),\n",
              " ('184', '164', 3.0),\n",
              " ('508', '710', 4.0),\n",
              " ('234', '1200', 3.0),\n",
              " ('908', '427', 5.0),\n",
              " ('567', '513', 4.0),\n",
              " ('901', '94', 4.0),\n",
              " ('727', '238', 2.0),\n",
              " ('49', '433', 5.0),\n",
              " ('74', '354', 3.0),\n",
              " ('893', '290', 3.0),\n",
              " ('95', '550', 4.0),\n",
              " ('20', '208', 2.0),\n",
              " ('653', '482', 2.0),\n",
              " ('756', '50', 4.0),\n",
              " ('638', '168', 4.0),\n",
              " ('215', '203', 3.0),\n",
              " ('125', '615', 3.0),\n",
              " ('711', '1285', 3.0),\n",
              " ('207', '269', 4.0),\n",
              " ('455', '70', 3.0),\n",
              " ('780', '97', 5.0),\n",
              " ('417', '574', 2.0),\n",
              " ('455', '79', 4.0),\n",
              " ('181', '544', 1.0),\n",
              " ('793', '1142', 5.0),\n",
              " ('892', '58', 4.0),\n",
              " ('151', '837', 4.0),\n",
              " ('210', '230', 3.0),\n",
              " ('934', '302', 4.0),\n",
              " ('608', '317', 5.0),\n",
              " ('59', '527', 5.0),\n",
              " ('262', '785', 3.0),\n",
              " ('615', '1065', 4.0),\n",
              " ('840', '664', 3.0),\n",
              " ('58', '1063', 1.0),\n",
              " ('883', '147', 2.0),\n",
              " ('387', '55', 3.0),\n",
              " ('880', '137', 4.0),\n",
              " ('407', '1118', 4.0),\n",
              " ('328', '182', 2.0),\n",
              " ('234', '96', 2.0),\n",
              " ('318', '401', 3.0),\n",
              " ('387', '431', 3.0),\n",
              " ('751', '472', 2.0),\n",
              " ('279', '1093', 4.0),\n",
              " ('459', '282', 3.0),\n",
              " ('486', '766', 4.0),\n",
              " ('774', '82', 2.0),\n",
              " ('405', '943', 1.0),\n",
              " ('308', '143', 4.0),\n",
              " ('666', '248', 3.0),\n",
              " ('451', '1295', 2.0),\n",
              " ('389', '301', 4.0),\n",
              " ('939', '106', 3.0),\n",
              " ('915', '315', 4.0),\n",
              " ('323', '295', 3.0),\n",
              " ('663', '1047', 4.0),\n",
              " ('621', '135', 5.0),\n",
              " ('99', '50', 5.0),\n",
              " ('276', '774', 2.0),\n",
              " ('641', '496', 2.0),\n",
              " ('741', '218', 4.0),\n",
              " ('324', '289', 5.0),\n",
              " ('655', '1169', 3.0),\n",
              " ('234', '751', 2.0),\n",
              " ('467', '293', 4.0),\n",
              " ('235', '1176', 5.0),\n",
              " ('916', '423', 3.0),\n",
              " ('130', '658', 5.0),\n",
              " ('659', '837', 3.0),\n",
              " ('160', '410', 4.0),\n",
              " ('226', '180', 4.0),\n",
              " ('864', '443', 4.0),\n",
              " ('314', '929', 3.0),\n",
              " ('58', '275', 5.0),\n",
              " ('648', '318', 3.0),\n",
              " ('924', '28', 4.0),\n",
              " ('768', '127', 5.0),\n",
              " ('350', '187', 5.0),\n",
              " ('23', '95', 4.0),\n",
              " ('339', '1244', 4.0),\n",
              " ('654', '720', 4.0),\n",
              " ('234', '153', 3.0),\n",
              " ('116', '1039', 4.0),\n",
              " ('911', '622', 3.0),\n",
              " ('573', '183', 3.0),\n",
              " ('625', '200', 3.0),\n",
              " ('838', '718', 5.0),\n",
              " ('620', '148', 3.0),\n",
              " ('407', '123', 3.0),\n",
              " ('880', '603', 5.0),\n",
              " ('86', '326', 3.0),\n",
              " ('391', '924', 2.0),\n",
              " ('795', '554', 3.0),\n",
              " ('743', '224', 5.0),\n",
              " ('145', '665', 5.0),\n",
              " ('230', '304', 5.0),\n",
              " ('301', '425', 4.0),\n",
              " ('43', '747', 4.0),\n",
              " ('293', '248', 3.0),\n",
              " ('334', '131', 4.0),\n",
              " ('233', '523', 4.0),\n",
              " ('782', '1160', 2.0),\n",
              " ('795', '546', 3.0),\n",
              " ('823', '7', 5.0),\n",
              " ('344', '213', 4.0),\n",
              " ('181', '870', 2.0),\n",
              " ('221', '4', 3.0),\n",
              " ('338', '494', 3.0),\n",
              " ('934', '792', 3.0),\n",
              " ('621', '546', 3.0),\n",
              " ('495', '184', 5.0),\n",
              " ('812', '333', 5.0),\n",
              " ('833', '7', 3.0),\n",
              " ('279', '1185', 1.0),\n",
              " ('194', '172', 3.0),\n",
              " ('758', '607', 5.0),\n",
              " ('271', '186', 4.0),\n",
              " ('297', '699', 4.0),\n",
              " ('804', '97', 4.0),\n",
              " ('372', '561', 5.0),\n",
              " ('96', '23', 5.0),\n",
              " ('684', '239', 4.0),\n",
              " ('313', '840', 2.0),\n",
              " ('44', '216', 1.0),\n",
              " ('312', '496', 5.0),\n",
              " ('875', '1422', 3.0),\n",
              " ('838', '750', 4.0),\n",
              " ('605', '126', 5.0),\n",
              " ('622', '833', 4.0),\n",
              " ('760', '237', 3.0),\n",
              " ('79', '1022', 5.0),\n",
              " ('569', '268', 3.0),\n",
              " ('466', '354', 2.0),\n",
              " ('313', '114', 4.0),\n",
              " ('158', '284', 5.0),\n",
              " ('600', '29', 2.0),\n",
              " ('579', '288', 4.0),\n",
              " ('311', '56', 5.0),\n",
              " ('401', '161', 2.0),\n",
              " ('18', '357', 4.0),\n",
              " ('393', '270', 5.0),\n",
              " ('262', '15', 3.0),\n",
              " ('916', '679', 3.0),\n",
              " ('870', '51', 2.0),\n",
              " ('293', '559', 2.0),\n",
              " ('13', '527', 5.0),\n",
              " ('943', '117', 4.0),\n",
              " ('790', '196', 3.0),\n",
              " ('919', '260', 4.0),\n",
              " ('655', '730', 2.0),\n",
              " ('683', '513', 5.0),\n",
              " ('472', '258', 5.0),\n",
              " ('354', '732', 2.0),\n",
              " ('214', '13', 3.0),\n",
              " ('303', '693', 4.0),\n",
              " ('88', '261', 5.0),\n",
              " ('727', '72', 3.0),\n",
              " ('848', '582', 4.0),\n",
              " ('943', '840', 4.0),\n",
              " ('49', '1067', 3.0),\n",
              " ('503', '121', 3.0),\n",
              " ('285', '628', 2.0),\n",
              " ('545', '380', 3.0),\n",
              " ('940', '310', 3.0),\n",
              " ('648', '357', 2.0),\n",
              " ('505', '203', 4.0),\n",
              " ('887', '1383', 4.0),\n",
              " ('181', '408', 1.0),\n",
              " ('195', '326', 3.0),\n",
              " ('214', '185', 5.0),\n",
              " ('735', '181', 4.0),\n",
              " ('271', '511', 5.0),\n",
              " ('313', '98', 4.0),\n",
              " ('13', '492', 5.0),\n",
              " ('453', '73', 4.0),\n",
              " ('840', '650', 4.0),\n",
              " ('232', '294', 2.0),\n",
              " ('158', '483', 5.0),\n",
              " ('665', '186', 4.0),\n",
              " ('588', '1053', 3.0),\n",
              " ('716', '86', 5.0),\n",
              " ('91', '429', 4.0),\n",
              " ('222', '368', 1.0),\n",
              " ('800', '864', 4.0),\n",
              " ('564', '272', 3.0),\n",
              " ('145', '692', 2.0),\n",
              " ('276', '1028', 3.0),\n",
              " ('59', '692', 3.0),\n",
              " ('129', '269', 4.0),\n",
              " ('258', '286', 5.0),\n",
              " ('474', '615', 4.0),\n",
              " ('130', '1248', 3.0),\n",
              " ('523', '9', 4.0),\n",
              " ('429', '121', 3.0),\n",
              " ('276', '92', 4.0),\n",
              " ('83', '88', 5.0),\n",
              " ('460', '302', 4.0),\n",
              " ('181', '977', 1.0),\n",
              " ('151', '136', 4.0),\n",
              " ('711', '77', 3.0),\n",
              " ('870', '873', 2.0),\n",
              " ('339', '511', 5.0),\n",
              " ('249', '405', 3.0),\n",
              " ('247', '300', 2.0),\n",
              " ('159', '24', 5.0),\n",
              " ('268', '267', 3.0),\n",
              " ('756', '111', 4.0),\n",
              " ('846', '1297', 3.0),\n",
              " ('545', '167', 3.0),\n",
              " ('566', '7', 4.0),\n",
              " ('303', '433', 4.0),\n",
              " ('577', '651', 5.0),\n",
              " ('504', '423', 4.0),\n",
              " ('59', '423', 5.0),\n",
              " ('62', '170', 3.0),\n",
              " ('409', '30', 4.0),\n",
              " ('903', '254', 2.0),\n",
              " ('694', '239', 4.0),\n",
              " ('577', '732', 4.0),\n",
              " ('705', '89', 2.0),\n",
              " ('256', '692', 5.0),\n",
              " ('398', '591', 3.0),\n",
              " ('889', '195', 4.0),\n",
              " ('686', '168', 5.0),\n",
              " ('671', '679', 3.0),\n",
              " ('406', '1170', 4.0),\n",
              " ('510', '678', 4.0),\n",
              " ('262', '786', 3.0),\n",
              " ('527', '234', 5.0),\n",
              " ('343', '582', 3.0),\n",
              " ('919', '318', 5.0),\n",
              " ('233', '223', 4.0),\n",
              " ('932', '121', 3.0),\n",
              " ('666', '81', 4.0),\n",
              " ('13', '483', 5.0),\n",
              " ('207', '117', 3.0),\n",
              " ('873', '300', 4.0),\n",
              " ('267', '1110', 3.0),\n",
              " ('332', '225', 3.0),\n",
              " ('637', '926', 2.0),\n",
              " ('880', '742', 4.0),\n",
              " ('503', '237', 4.0),\n",
              " ('943', '218', 4.0),\n",
              " ('256', '92', 1.0),\n",
              " ('544', '877', 2.0),\n",
              " ('308', '30', 4.0),\n",
              " ('303', '654', 5.0),\n",
              " ('190', '628', 4.0),\n",
              " ('606', '647', 3.0),\n",
              " ('551', '719', 1.0),\n",
              " ('621', '410', 4.0),\n",
              " ('524', '218', 3.0),\n",
              " ('921', '1028', 4.0),\n",
              " ('279', '780', 4.0),\n",
              " ('62', '222', 5.0),\n",
              " ('503', '166', 5.0),\n",
              " ('545', '99', 4.0),\n",
              " ('385', '286', 3.0),\n",
              " ('399', '552', 1.0),\n",
              " ('168', '931', 3.0),\n",
              " ('348', '405', 4.0),\n",
              " ('184', '766', 3.0),\n",
              " ('506', '193', 4.0),\n",
              " ('881', '1228', 3.0),\n",
              " ('215', '88', 3.0),\n",
              " ('272', '288', 4.0),\n",
              " ('102', '568', 2.0),\n",
              " ('368', '164', 3.0),\n",
              " ('491', '19', 4.0),\n",
              " ('385', '447', 3.0),\n",
              " ('773', '168', 5.0),\n",
              " ('76', '1129', 5.0),\n",
              " ('256', '975', 3.0),\n",
              " ('627', '233', 2.0),\n",
              " ('198', '939', 3.0),\n",
              " ('174', '662', 5.0),\n",
              " ('896', '484', 4.0),\n",
              " ('264', '451', 4.0),\n",
              " ('276', '51', 3.0),\n",
              " ('144', '153', 5.0),\n",
              " ('138', '185', 4.0),\n",
              " ('453', '566', 3.0),\n",
              " ('864', '805', 4.0),\n",
              " ('168', '546', 3.0),\n",
              " ('379', '183', 4.0),\n",
              " ('130', '1151', 3.0),\n",
              " ('592', '169', 5.0),\n",
              " ('830', '313', 5.0),\n",
              " ('458', '517', 4.0),\n",
              " ('368', '98', 3.0),\n",
              " ('59', '504', 5.0),\n",
              " ('405', '579', 1.0),\n",
              " ('666', '50', 3.0),\n",
              " ('292', '276', 5.0),\n",
              " ('823', '770', 4.0),\n",
              " ('220', '340', 4.0),\n",
              " ('788', '651', 4.0),\n",
              " ('751', '153', 4.0),\n",
              " ('469', '923', 5.0),\n",
              " ('344', '1007', 4.0),\n",
              " ('727', '421', 5.0),\n",
              " ('501', '129', 4.0),\n",
              " ('154', '806', 4.0),\n",
              " ('807', '300', 5.0),\n",
              " ('326', '229', 3.0),\n",
              " ('899', '202', 4.0),\n",
              " ('42', '15', 4.0),\n",
              " ('13', '82', 2.0),\n",
              " ('543', '176', 4.0),\n",
              " ('279', '16', 4.0),\n",
              " ('385', '482', 3.0),\n",
              " ('376', '181', 4.0),\n",
              " ('617', '56', 1.0),\n",
              " ('435', '42', 3.0),\n",
              " ('523', '384', 3.0),\n",
              " ('722', '124', 4.0),\n",
              " ('459', '100', 1.0),\n",
              " ('342', '14', 5.0),\n",
              " ('705', '684', 3.0),\n",
              " ('13', '682', 1.0),\n",
              " ('592', '121', 4.0),\n",
              " ('434', '756', 2.0),\n",
              " ('648', '298', 2.0),\n",
              " ('519', '340', 5.0),\n",
              " ('273', '690', 4.0),\n",
              " ('711', '845', 4.0),\n",
              " ('237', '498', 4.0),\n",
              " ('899', '282', 5.0),\n",
              " ('807', '633', 4.0),\n",
              " ('435', '1411', 1.0),\n",
              " ('113', '237', 3.0),\n",
              " ('777', '522', 5.0),\n",
              " ('23', '603', 4.0),\n",
              " ('380', '318', 4.0),\n",
              " ('37', '831', 2.0),\n",
              " ('23', '530', 4.0),\n",
              " ('148', '191', 1.0),\n",
              " ('655', '304', 2.0),\n",
              " ('151', '238', 5.0),\n",
              " ('747', '1427', 2.0),\n",
              " ('411', '732', 4.0),\n",
              " ('883', '435', 4.0),\n",
              " ('188', '510', 3.0),\n",
              " ('751', '250', 3.0),\n",
              " ('239', '340', 5.0),\n",
              " ('63', '405', 4.0),\n",
              " ('405', '816', 1.0),\n",
              " ('851', '223', 4.0),\n",
              " ('270', '554', 1.0),\n",
              " ('90', '174', 5.0),\n",
              " ('760', '631', 3.0),\n",
              " ('37', '147', 3.0),\n",
              " ('807', '699', 4.0),\n",
              " ('541', '304', 4.0),\n",
              " ('344', '290', 2.0),\n",
              " ('833', '357', 4.0),\n",
              " ('158', '1016', 3.0),\n",
              " ('776', '667', 2.0),\n",
              " ('642', '13', 4.0),\n",
              " ('748', '169', 4.0),\n",
              " ('65', '168', 4.0),\n",
              " ('26', '369', 2.0),\n",
              " ('908', '147', 2.0),\n",
              " ('276', '748', 3.0),\n",
              " ('87', '82', 5.0),\n",
              " ('491', '45', 5.0),\n",
              " ('10', '273', 4.0),\n",
              " ('601', '324', 4.0),\n",
              " ('92', '926', 3.0),\n",
              " ('144', '516', 2.0),\n",
              " ('305', '431', 4.0),\n",
              " ('301', '597', 3.0),\n",
              " ('843', '204', 3.0),\n",
              " ('806', '90', 4.0),\n",
              " ('541', '877', 1.0),\n",
              " ('451', '304', 3.0),\n",
              " ('280', '159', 4.0),\n",
              " ('327', '960', 5.0),\n",
              " ('458', '287', 4.0),\n",
              " ('263', '1444', 3.0),\n",
              " ('253', '685', 2.0),\n",
              " ('318', '739', 5.0),\n",
              " ('457', '65', 5.0),\n",
              " ('634', '1049', 2.0),\n",
              " ('234', '792', 4.0),\n",
              " ('769', '1', 4.0),\n",
              " ('15', '13', 1.0),\n",
              " ('922', '82', 3.0),\n",
              " ('286', '1079', 3.0),\n",
              " ('880', '410', 4.0),\n",
              " ('453', '229', 2.0),\n",
              " ('564', '257', 4.0),\n",
              " ('554', '82', 4.0),\n",
              " ('896', '732', 4.0),\n",
              " ('11', '517', 2.0),\n",
              " ('498', '462', 3.0),\n",
              " ('682', '386', 2.0),\n",
              " ('11', '659', 5.0),\n",
              " ('831', '354', 4.0),\n",
              " ('927', '72', 5.0),\n",
              " ('190', '7', 4.0),\n",
              " ('846', '655', 3.0),\n",
              " ('186', '1253', 4.0),\n",
              " ('524', '447', 5.0),\n",
              " ('16', '199', 5.0),\n",
              " ('125', '427', 4.0),\n",
              " ('308', '434', 4.0),\n",
              " ('862', '282', 5.0),\n",
              " ('435', '160', 5.0),\n",
              " ('897', '369', 4.0),\n",
              " ('299', '4', 3.0),\n",
              " ('592', '318', 5.0),\n",
              " ('506', '53', 4.0),\n",
              " ('798', '687', 4.0),\n",
              " ('439', '125', 3.0),\n",
              " ('601', '588', 3.0),\n",
              " ('312', '121', 3.0),\n",
              " ('394', '38', 4.0),\n",
              " ('666', '137', 4.0),\n",
              " ('453', '59', 2.0),\n",
              " ('561', '153', 3.0),\n",
              " ('940', '354', 5.0),\n",
              " ('233', '568', 5.0),\n",
              " ('314', '406', 3.0),\n",
              " ('410', '754', 3.0),\n",
              " ('586', '23', 2.0),\n",
              " ('803', '242', 5.0),\n",
              " ('617', '446', 2.0),\n",
              " ('618', '942', 2.0),\n",
              " ('622', '80', 3.0),\n",
              " ('327', '1129', 2.0),\n",
              " ('244', '3', 5.0),\n",
              " ('1', '233', 2.0),\n",
              " ('59', '505', 4.0),\n",
              " ('486', '1514', 4.0),\n",
              " ('134', '326', 5.0),\n",
              " ('268', '525', 4.0),\n",
              " ('848', '462', 5.0),\n",
              " ('543', '566', 4.0),\n",
              " ('116', '259', 4.0),\n",
              " ('655', '867', 4.0),\n",
              " ('301', '202', 5.0),\n",
              " ('654', '558', 3.0),\n",
              " ('200', '148', 4.0),\n",
              " ('756', '63', 3.0),\n",
              " ('144', '248', 4.0),\n",
              " ('293', '239', 3.0),\n",
              " ('541', '763', 3.0),\n",
              " ('64', '11', 4.0),\n",
              " ('932', '805', 4.0),\n",
              " ('9', '521', 4.0),\n",
              " ('748', '319', 3.0),\n",
              " ('85', '97', 2.0),\n",
              " ('312', '1299', 4.0),\n",
              " ('650', '434', 4.0),\n",
              " ('932', '650', 5.0),\n",
              " ('330', '501', 5.0),\n",
              " ('652', '328', 4.0),\n",
              " ('135', '265', 3.0),\n",
              " ('789', '100', 5.0),\n",
              " ('330', '8', 5.0),\n",
              " ('757', '183', 4.0),\n",
              " ('179', '1234', 1.0),\n",
              " ('334', '396', 4.0),\n",
              " ('643', '665', 3.0),\n",
              " ('881', '449', 3.0),\n",
              " ('795', '502', 3.0),\n",
              " ('712', '191', 3.0),\n",
              " ('922', '715', 3.0),\n",
              " ('645', '660', 3.0),\n",
              " ('271', '496', 5.0),\n",
              " ('333', '873', 3.0),\n",
              " ('13', '406', 1.0),\n",
              " ('537', '90', 1.0),\n",
              " ('3', '328', 5.0),\n",
              " ('230', '926', 3.0),\n",
              " ('804', '22', 5.0),\n",
              " ('788', '708', 2.0),\n",
              " ('545', '665', 3.0),\n",
              " ('457', '476', 2.0),\n",
              " ('233', '1194', 5.0),\n",
              " ('328', '43', 3.0),\n",
              " ('308', '1135', 4.0),\n",
              " ('567', '387', 4.0),\n",
              " ('275', '520', 4.0),\n",
              " ('524', '1046', 3.0),\n",
              " ('503', '88', 4.0),\n",
              " ('191', '900', 4.0),\n",
              " ('682', '284', 4.0),\n",
              " ('2', '295', 4.0),\n",
              " ('545', '182', 3.0),\n",
              " ('749', '187', 3.0),\n",
              " ('363', '1016', 4.0),\n",
              " ('328', '271', 3.0),\n",
              " ('256', '38', 4.0),\n",
              " ('378', '239', 3.0),\n",
              " ('695', '991', 5.0),\n",
              " ('273', '304', 3.0),\n",
              " ('896', '721', 4.0),\n",
              " ('536', '95', 5.0),\n",
              " ('65', '70', 1.0),\n",
              " ('134', '539', 4.0),\n",
              " ('682', '69', 4.0),\n",
              " ('734', '294', 1.0),\n",
              " ('269', '160', 2.0),\n",
              " ('303', '257', 4.0),\n",
              " ('21', '992', 2.0),\n",
              " ('32', '1023', 3.0),\n",
              " ('780', '187', 5.0),\n",
              " ('874', '137', 4.0),\n",
              " ('429', '642', 4.0),\n",
              " ('37', '385', 4.0),\n",
              " ('458', '333', 1.0),\n",
              " ('72', '480', 5.0),\n",
              " ('359', '472', 4.0),\n",
              " ('655', '502', 4.0),\n",
              " ('371', '210', 4.0),\n",
              " ('98', '428', 5.0),\n",
              " ('99', '174', 5.0),\n",
              " ('230', '28', 5.0),\n",
              " ('70', '132', 4.0),\n",
              " ('293', '412', 1.0),\n",
              " ('851', '748', 3.0),\n",
              " ('130', '282', 5.0),\n",
              " ('804', '523', 5.0),\n",
              " ('99', '926', 3.0),\n",
              " ('292', '174', 5.0),\n",
              " ('416', '955', 4.0),\n",
              " ('885', '208', 3.0),\n",
              " ('514', '470', 3.0),\n",
              " ('804', '162', 2.0),\n",
              " ('507', '294', 5.0),\n",
              " ('82', '678', 1.0),\n",
              " ('761', '988', 1.0),\n",
              " ('690', '514', 1.0),\n",
              " ('13', '573', 3.0),\n",
              " ('235', '213', 4.0),\n",
              " ('842', '328', 2.0),\n",
              " ('833', '761', 2.0),\n",
              " ('249', '407', 3.0),\n",
              " ('84', '823', 3.0),\n",
              " ('429', '702', 5.0),\n",
              " ('270', '335', 3.0),\n",
              " ('194', '647', 4.0),\n",
              " ('48', '194', 4.0),\n",
              " ('577', '147', 4.0),\n",
              " ('430', '222', 4.0),\n",
              " ('801', '302', 4.0),\n",
              " ('561', '19', 3.0),\n",
              " ('145', '678', 2.0),\n",
              " ('339', '212', 4.0),\n",
              " ('435', '562', 5.0),\n",
              " ('601', '168', 5.0),\n",
              " ('405', '238', 5.0),\n",
              " ('301', '588', 5.0),\n",
              " ('291', '181', 5.0),\n",
              " ('130', '123', 4.0),\n",
              " ('308', '509', 4.0),\n",
              " ('773', '522', 4.0),\n",
              " ('339', '30', 3.0),\n",
              " ('350', '479', 5.0),\n",
              " ('311', '191', 4.0),\n",
              " ('272', '498', 4.0),\n",
              " ('815', '684', 4.0),\n",
              " ('391', '696', 4.0),\n",
              " ('68', '275', 5.0),\n",
              " ('852', '260', 3.0),\n",
              " ('655', '914', 3.0),\n",
              " ('660', '145', 2.0),\n",
              " ('207', '1049', 3.0),\n",
              " ('22', '174', 5.0),\n",
              " ('750', '301', 4.0),\n",
              " ('648', '177', 5.0),\n",
              " ('301', '503', 3.0),\n",
              " ('664', '71', 4.0),\n",
              " ('606', '241', 3.0),\n",
              " ('273', '896', 4.0),\n",
              " ('249', '357', 4.0),\n",
              " ('276', '185', 4.0),\n",
              " ('766', '679', 3.0),\n",
              " ('655', '528', 5.0),\n",
              " ('393', '80', 3.0),\n",
              " ('929', '435', 3.0),\n",
              " ('435', '572', 2.0),\n",
              " ('625', '517', 3.0),\n",
              " ('617', '547', 1.0),\n",
              " ('256', '118', 5.0),\n",
              " ('636', '272', 5.0),\n",
              " ('214', '173', 4.0),\n",
              " ('125', '864', 3.0),\n",
              " ('44', '434', 4.0),\n",
              " ('878', '642', 3.0),\n",
              " ('89', '268', 5.0),\n",
              " ('397', '345', 4.0),\n",
              " ('495', '44', 3.0),\n",
              " ('838', '311', 4.0),\n",
              " ('54', '676', 5.0),\n",
              " ('328', '568', 3.0),\n",
              " ('919', '305', 4.0),\n",
              " ('610', '172', 4.0),\n",
              " ('293', '414', 4.0),\n",
              " ('305', '425', 4.0),\n",
              " ('499', '55', 4.0),\n",
              " ('268', '1157', 1.0),\n",
              " ('107', '302', 4.0),\n",
              " ('38', '418', 5.0),\n",
              " ('343', '67', 3.0),\n",
              " ('522', '96', 3.0),\n",
              " ('298', '427', 5.0),\n",
              " ('450', '696', 4.0),\n",
              " ('48', '1063', 3.0),\n",
              " ('347', '468', 2.0),\n",
              " ('193', '56', 1.0),\n",
              " ('894', '345', 4.0),\n",
              " ('57', '199', 5.0),\n",
              " ('655', '1061', 2.0),\n",
              " ('544', '748', 3.0),\n",
              " ('160', '458', 5.0),\n",
              " ('508', '210', 4.0),\n",
              " ('476', '944', 2.0),\n",
              " ('90', '603', 5.0),\n",
              " ('21', '590', 1.0),\n",
              " ('775', '750', 5.0),\n",
              " ('354', '57', 5.0),\n",
              " ('100', '292', 2.0),\n",
              " ('653', '233', 3.0),\n",
              " ('299', '237', 2.0),\n",
              " ('256', '77', 3.0),\n",
              " ('752', '354', 2.0),\n",
              " ('150', '324', 4.0),\n",
              " ('403', '222', 5.0),\n",
              " ('795', '658', 2.0),\n",
              " ('667', '651', 5.0),\n",
              " ('26', '1009', 2.0),\n",
              " ('437', '435', 3.0),\n",
              " ('54', '1088', 3.0),\n",
              " ('313', '745', 3.0),\n",
              " ('699', '3', 3.0),\n",
              " ('748', '208', 4.0),\n",
              " ('197', '174', 5.0),\n",
              " ('381', '771', 2.0),\n",
              " ('394', '232', 4.0),\n",
              " ('98', '514', 5.0),\n",
              " ('659', '187', 5.0),\n",
              " ('437', '161', 2.0),\n",
              " ('716', '141', 4.0),\n",
              " ('711', '134', 5.0),\n",
              " ('124', '209', 3.0),\n",
              " ('456', '739', 3.0),\n",
              " ('328', '260', 2.0),\n",
              " ('660', '259', 4.0),\n",
              " ('553', '151', 5.0),\n",
              " ('864', '1', 5.0),\n",
              " ('305', '863', 4.0),\n",
              " ('807', '140', 3.0),\n",
              " ('896', '480', 3.0),\n",
              " ('21', '854', 5.0),\n",
              " ('234', '243', 1.0),\n",
              " ('666', '381', 3.0),\n",
              " ('248', '174', 3.0),\n",
              " ('311', '671', 3.0),\n",
              " ('218', '176', 5.0),\n",
              " ('222', '596', 3.0),\n",
              " ('18', '607', 3.0),\n",
              " ('256', '1208', 3.0),\n",
              " ('334', '855', 3.0),\n",
              " ('235', '170', 4.0),\n",
              " ('62', '118', 2.0),\n",
              " ('297', '124', 4.0),\n",
              " ('643', '1016', 3.0),\n",
              " ('167', '237', 4.0),\n",
              " ('537', '116', 3.0),\n",
              " ('868', '234', 4.0),\n",
              " ('533', '230', 4.0),\n",
              " ('921', '678', 5.0),\n",
              " ('312', '855', 5.0),\n",
              " ('450', '732', 3.0),\n",
              " ('930', '286', 3.0),\n",
              " ('806', '231', 3.0),\n",
              " ('301', '550', 3.0),\n",
              " ('247', '28', 5.0),\n",
              " ('359', '298', 5.0),\n",
              " ('756', '138', 2.0),\n",
              " ('399', '1314', 3.0),\n",
              " ('634', '460', 3.0),\n",
              " ('630', '471', 4.0),\n",
              " ('840', '221', 4.0),\n",
              " ('269', '161', 1.0),\n",
              " ('392', '657', 5.0),\n",
              " ('393', '748', 3.0),\n",
              " ('756', '275', 3.0),\n",
              " ('527', '279', 4.0),\n",
              " ('855', '531', 3.0),\n",
              " ('862', '12', 5.0),\n",
              " ('796', '588', 5.0),\n",
              " ('178', '156', 2.0),\n",
              " ('921', '282', 2.0),\n",
              " ('456', '672', 1.0),\n",
              " ('279', '687', 4.0),\n",
              " ('422', '475', 4.0),\n",
              " ('679', '483', 5.0),\n",
              " ('381', '1439', 3.0),\n",
              " ('376', '762', 4.0),\n",
              " ('202', '204', 3.0),\n",
              " ('151', '675', 2.0),\n",
              " ('389', '656', 5.0),\n",
              " ('290', '385', 4.0),\n",
              " ('311', '845', 4.0),\n",
              " ('312', '654', 5.0),\n",
              " ('833', '1006', 1.0),\n",
              " ('537', '616', 2.0),\n",
              " ('486', '124', 5.0),\n",
              " ('933', '135', 4.0),\n",
              " ('393', '172', 5.0),\n",
              " ('500', '554', 3.0),\n",
              " ('226', '508', 4.0),\n",
              " ('305', '311', 5.0),\n",
              " ('764', '252', 3.0),\n",
              " ('25', '463', 4.0),\n",
              " ('717', '826', 2.0),\n",
              " ('487', '672', 4.0),\n",
              " ('194', '71', 4.0),\n",
              " ('894', '638', 3.0),\n",
              " ('387', '229', 2.0),\n",
              " ('629', '301', 3.0),\n",
              " ('608', '333', 4.0),\n",
              " ('620', '1036', 4.0),\n",
              " ('429', '1018', 3.0),\n",
              " ('637', '936', 4.0),\n",
              " ('301', '288', 4.0),\n",
              " ('363', '176', 4.0),\n",
              " ('507', '841', 5.0),\n",
              " ('533', '181', 5.0),\n",
              " ('579', '603', 5.0),\n",
              " ('267', '715', 4.0),\n",
              " ('500', '211', 3.0),\n",
              " ('131', '137', 1.0),\n",
              " ('233', '492', 5.0),\n",
              " ('95', '436', 5.0),\n",
              " ('95', '640', 3.0),\n",
              " ('774', '511', 3.0),\n",
              " ('373', '187', 2.0),\n",
              " ('293', '290', 2.0),\n",
              " ('788', '828', 3.0),\n",
              " ('826', '1239', 4.0),\n",
              " ('913', '179', 3.0),\n",
              " ('653', '472', 1.0),\n",
              " ('158', '530', 4.0),\n",
              " ('299', '150', 5.0),\n",
              " ('429', '1296', 2.0),\n",
              " ('291', '250', 4.0),\n",
              " ('305', '210', 3.0),\n",
              " ('773', '45', 4.0),\n",
              " ('864', '102', 4.0),\n",
              " ('790', '228', 3.0),\n",
              " ('59', '465', 2.0),\n",
              " ('276', '7', 5.0),\n",
              " ('486', '879', 3.0),\n",
              " ('339', '226', 2.0),\n",
              " ('892', '403', 3.0),\n",
              " ('311', '210', 5.0),\n",
              " ('738', '603', 5.0),\n",
              " ('456', '1008', 4.0),\n",
              " ('858', '754', 4.0),\n",
              " ('328', '614', 4.0),\n",
              " ('860', '313', 4.0),\n",
              " ('77', '455', 3.0),\n",
              " ('706', '288', 3.0),\n",
              " ('183', '270', 3.0),\n",
              " ('293', '272', 4.0),\n",
              " ('327', '502', 3.0),\n",
              " ('13', '678', 3.0),\n",
              " ('880', '976', 2.0),\n",
              " ('109', '1039', 2.0),\n",
              " ('311', '570', 4.0),\n",
              " ('158', '128', 2.0),\n",
              " ('145', '301', 4.0),\n",
              " ('580', '257', 5.0),\n",
              " ('714', '50', 5.0),\n",
              " ('782', '1537', 3.0),\n",
              " ('523', '523', 3.0),\n",
              " ('620', '95', 4.0),\n",
              " ('201', '145', 3.0),\n",
              " ('943', '67', 4.0),\n",
              " ('445', '1129', 4.0),\n",
              " ('49', '514', 4.0),\n",
              " ('280', '68', 3.0),\n",
              " ('496', '774', 5.0),\n",
              " ('318', '796', 3.0),\n",
              " ('1', '252', 2.0),\n",
              " ('655', '1147', 3.0),\n",
              " ('919', '298', 3.0),\n",
              " ('409', '606', 4.0),\n",
              " ('57', '864', 3.0),\n",
              " ('653', '1016', 3.0),\n",
              " ('11', '215', 3.0),\n",
              " ('128', '294', 4.0),\n",
              " ('608', '268', 4.0),\n",
              " ('489', '268', 2.0),\n",
              " ('588', '347', 5.0),\n",
              " ('116', '896', 2.0),\n",
              " ('13', '73', 3.0),\n",
              " ('712', '783', 3.0),\n",
              " ('295', '42', 3.0),\n",
              " ('899', '25', 3.0),\n",
              " ('13', '427', 5.0),\n",
              " ('347', '427', 4.0),\n",
              " ('223', '95', 5.0),\n",
              " ('749', '428', 3.0),\n",
              " ('230', '1192', 4.0),\n",
              " ('186', '1277', 4.0),\n",
              " ('880', '82', 3.0),\n",
              " ('56', '546', 3.0),\n",
              " ('919', '326', 3.0),\n",
              " ('529', '269', 3.0),\n",
              " ('747', '582', 5.0),\n",
              " ('655', '124', 3.0),\n",
              " ('327', '204', 4.0),\n",
              " ('419', '488', 5.0),\n",
              " ('87', '1189', 5.0),\n",
              " ('671', '779', 3.0),\n",
              " ('568', '6', 3.0),\n",
              " ('234', '619', 2.0),\n",
              " ('899', '144', 3.0),\n",
              " ('764', '323', 3.0),\n",
              " ('303', '330', 3.0),\n",
              " ('70', '264', 4.0),\n",
              " ('524', '651', 4.0),\n",
              " ('658', '169', 5.0),\n",
              " ('867', '655', 4.0),\n",
              " ('699', '321', 3.0),\n",
              " ('293', '568', 4.0),\n",
              " ('339', '678', 2.0),\n",
              " ('102', '233', 3.0),\n",
              " ('580', '281', 2.0),\n",
              " ('200', '91', 4.0),\n",
              " ('727', '100', 2.0),\n",
              " ('755', '690', 5.0),\n",
              " ('486', '471', 5.0),\n",
              " ('61', '271', 1.0),\n",
              " ('499', '661', 3.0),\n",
              " ('10', '133', 5.0),\n",
              " ('586', '265', 5.0),\n",
              " ('146', '269', 4.0),\n",
              " ('145', '331', 3.0),\n",
              " ('632', '79', 5.0),\n",
              " ('178', '756', 3.0),\n",
              " ('398', '494', 3.0),\n",
              " ('728', '508', 4.0),\n",
              " ('508', '88', 3.0),\n",
              " ('95', '219', 4.0),\n",
              " ('675', '242', 4.0),\n",
              " ('804', '23', 4.0),\n",
              " ('789', '293', 4.0),\n",
              " ('637', '283', 2.0),\n",
              " ('526', '312', 2.0),\n",
              " ('276', '147', 4.0),\n",
              " ('559', '519', 5.0),\n",
              " ('159', '72', 3.0),\n",
              " ('378', '1134', 4.0),\n",
              " ('535', '193', 4.0),\n",
              " ('62', '151', 5.0),\n",
              " ('267', '484', 5.0),\n",
              " ('468', '367', 4.0),\n",
              " ('435', '762', 4.0),\n",
              " ('570', '286', 4.0),\n",
              " ('615', '294', 3.0),\n",
              " ('749', '208', 5.0),\n",
              " ('919', '1152', 4.0),\n",
              " ('293', '1421', 2.0),\n",
              " ('399', '274', 3.0),\n",
              " ('846', '52', 4.0),\n",
              " ('422', '273', 5.0),\n",
              " ('758', '508', 4.0),\n",
              " ('65', '48', 5.0),\n",
              " ('279', '1035', 3.0),\n",
              " ('342', '153', 4.0),\n",
              " ('554', '951', 3.0),\n",
              " ('130', '121', 5.0),\n",
              " ('843', '194', 2.0),\n",
              " ('224', '294', 4.0),\n",
              " ('864', '226', 3.0),\n",
              " ('276', '141', 4.0),\n",
              " ('472', '1091', 4.0),\n",
              " ('606', '1011', 3.0),\n",
              " ('773', '393', 2.0),\n",
              " ('116', '264', 3.0),\n",
              " ('140', '289', 4.0),\n",
              " ('429', '415', 3.0),\n",
              " ('682', '300', 2.0),\n",
              " ('90', '972', 4.0),\n",
              " ('713', '272', 4.0),\n",
              " ('846', '198', 5.0),\n",
              " ('643', '481', 4.0),\n",
              " ('107', '268', 4.0),\n",
              " ('292', '24', 4.0),\n",
              " ('627', '7', 5.0),\n",
              " ('894', '405', 3.0),\n",
              " ('14', '596', 3.0),\n",
              " ('435', '53', 3.0),\n",
              " ('539', '382', 5.0),\n",
              " ('618', '699', 3.0),\n",
              " ('134', '258', 4.0),\n",
              " ('854', '286', 1.0),\n",
              " ('442', '1098', 4.0),\n",
              " ('450', '47', 3.0),\n",
              " ('664', '306', 4.0),\n",
              " ('533', '174', 4.0),\n",
              " ('243', '116', 4.0),\n",
              " ('562', '591', 4.0),\n",
              " ('669', '276', 2.0),\n",
              " ('790', '85', 3.0),\n",
              " ('363', '1478', 1.0),\n",
              " ('536', '480', 5.0),\n",
              " ('805', '91', 5.0),\n",
              " ('498', '410', 3.0),\n",
              " ('399', '222', 3.0),\n",
              " ('344', '274', 2.0),\n",
              " ('593', '723', 4.0),\n",
              " ('174', '762', 5.0),\n",
              " ('883', '342', 4.0),\n",
              " ('118', '474', 5.0),\n",
              " ('152', '504', 4.0),\n",
              " ('56', '447', 4.0),\n",
              " ('903', '191', 5.0),\n",
              " ('346', '176', 4.0),\n",
              " ('398', '49', 3.0),\n",
              " ('774', '577', 2.0),\n",
              " ('878', '432', 3.0),\n",
              " ('532', '739', 5.0),\n",
              " ('451', '884', 1.0),\n",
              " ('463', '1028', 2.0),\n",
              " ('154', '288', 3.0),\n",
              " ('664', '175', 4.0),\n",
              " ('600', '759', 2.0),\n",
              " ('407', '153', 4.0),\n",
              " ('883', '170', 3.0),\n",
              " ('782', '1142', 3.0),\n",
              " ('188', '930', 4.0),\n",
              " ('787', '352', 2.0),\n",
              " ('60', '665', 4.0),\n",
              " ('392', '178', 5.0),\n",
              " ('325', '511', 4.0),\n",
              " ('422', '922', 4.0),\n",
              " ('178', '294', 2.0),\n",
              " ('223', '288', 3.0),\n",
              " ('21', '985', 2.0),\n",
              " ('497', '864', 3.0),\n",
              " ('346', '1231', 3.0),\n",
              " ('145', '572', 5.0),\n",
              " ('7', '72', 5.0),\n",
              " ('178', '22', 5.0),\n",
              " ('634', '991', 3.0),\n",
              " ('334', '160', 4.0),\n",
              " ('254', '15', 3.0),\n",
              " ('448', '340', 4.0),\n",
              " ...]"
            ]
          },
          "metadata": {},
          "execution_count": 46
        }
      ]
    },
    {
      "cell_type": "code",
      "metadata": {
        "ExecuteTime": {
          "end_time": "2021-05-19T22:02:47.649261Z",
          "start_time": "2021-05-19T22:02:47.631815Z"
        },
        "colab": {
          "base_uri": "https://localhost:8080/"
        },
        "id": "rvvw4w3aVA9R",
        "outputId": "7e8e7530-975b-47d8-c600-dca3f0d444fc"
      },
      "source": [
        "accuracy.rmse(predictions);"
      ],
      "execution_count": 47,
      "outputs": [
        {
          "output_type": "stream",
          "name": "stdout",
          "text": [
            "RMSE: 0.9411\n"
          ]
        }
      ]
    },
    {
      "cell_type": "markdown",
      "metadata": {
        "id": "gxA9DhnrVA9W"
      },
      "source": [
        "## Кросс-валидация"
      ]
    },
    {
      "cell_type": "markdown",
      "metadata": {
        "id": "3nfQSI8gVA9X"
      },
      "source": [
        "Обучая любой алгоритм машинного обучения мы, фактически, \"подгоняем\" модель под данные, которые ей подаём. Но, если подгонять слишком сильно, то модель переобучится. То есть модель начнёт запоминать ответы вместо того, чтобы выявлять закономерности. \n",
        "\n",
        "На графиках ниже точки тренировочной выборки:\n",
        "*  слева - недообученная модель (большая ошибка на тренировочной выборке; большая ошибка на тестовой выборке)\n",
        "*  посередине - хорошо обученная модель (маленькая ошибка на тренировочной выборке; маленькая ошибка на тестовой выборке)\n",
        "*  справа - переобученная модель (очень маленькая или нулевая ошибка на тренировочной выборке; большая ошибка на тестовой выборке)"
      ]
    },
    {
      "cell_type": "markdown",
      "metadata": {
        "id": "7sdQG7kTVA9Y"
      },
      "source": [
        "<p align=\"center\">\n",
        "  <img src=\"https://drive.google.com/uc?id=1Eg4Xg4o-lhzrgqNNmNQCtB1RxNJmnmWx\" alt=\"Drawing\" style=\"width: 700px;\" width=\"700\"/>\n",
        "</p>"
      ]
    },
    {
      "cell_type": "markdown",
      "metadata": {
        "id": "mYNhrqsNVA9Z"
      },
      "source": [
        "Таким образом, обучая модель, мы всегда уменьшаем ошибку на тренировочной выборке. Вместе с ошибкой на тренировочной выборке, падает и ошибка на тестовой. Но после какого-то момента, модель начинает переобучатся, и ошибка на тестовой выборке начинает расти, в то время, как ошибка на тренировочной выборке продолжает падать. "
      ]
    },
    {
      "cell_type": "markdown",
      "metadata": {
        "id": "Xmuhn5RUVA9Z"
      },
      "source": [
        "<p align=\"center\">\n",
        "  <img src=\"https://drive.google.com/uc?id=1mvU_jJIe07tAoX82qODcpmTBctx0ReuT\" alt=\"Drawing\" style=\"width: 700px;\" width=\"700\"/>\n",
        "</p>"
      ]
    },
    {
      "cell_type": "markdown",
      "metadata": {
        "id": "k-m8IjEkVA9a"
      },
      "source": [
        "Может получится ситуация, когда мы видим маленькую ошибку нашей модели, и думаем, что она хорошая, но на самом деле она просто переобучилась, и на новых данных покажет плохой результат.\n",
        "\n",
        "Чтобы избежать такой ситуации можно использовать отложенную выборку. То есть мы разбиваем наши данные на **тренировочную** выборку, **тестовую** выборку и **отложенную** выборку. Соответственно, обучаем модель на тренировочной, в ходе обучения проверяем результат на тестовой выборке, а в конце обучения, чтобы оценить качество модели, ошибку считаем на отложенной выборке."
      ]
    },
    {
      "cell_type": "markdown",
      "metadata": {
        "id": "6qQjDxYpVA9c"
      },
      "source": [
        "При таком подходе в обучении модели участвует только тренировочная выборка. Тестовую и отложенную мы используем только для проверки. Если у нас мало данных, отложенная выборка - непозволительная роскошь. \n",
        "\n",
        "Другой популярный подход это **кросс-валидация** или скользящий контроль. Суть метода заключается в том, что мы дераем не одно разбиение датесета, а несколько разбиений таким образом, чтобы все данные использовались и в обучении и для проверки. Такие разбиения называются **фолдами**. \n",
        "\n",
        "Преимущества такого подхожа в том, что мы используем все данные для обучения. Также это позволяет оценить устойчивость модели. Если ошибки полученные на разных фолдах сильно отличаются, что модель неустойчива.\n",
        "Недостаток метода в том, что нам нужно обучать не одну модель, а несколько (столько, сколько мы выбрали фолдов).\n",
        "\n",
        "На практике часто выбирают 5 фолдов."
      ]
    },
    {
      "cell_type": "markdown",
      "metadata": {
        "id": "ZrMKa--nVA9d"
      },
      "source": [
        "<p align=\"center\">\n",
        "  <img src=\"https://drive.google.com/uc?id=1C9eHgCi30X08XaSScmjqIOT3ayBtBiFw\" alt=\"Drawing\" style=\"width: 500px;\" width=\"300\"/>\n",
        "</p>"
      ]
    },
    {
      "cell_type": "code",
      "metadata": {
        "id": "3Nm_zw-BVA9e"
      },
      "source": [
        "from surprise.model_selection import cross_validate"
      ],
      "execution_count": 48,
      "outputs": []
    },
    {
      "cell_type": "markdown",
      "metadata": {
        "id": "VEPy4jGKVA9h"
      },
      "source": [
        "Используем функцию **cross_validate** из модуля **model_selection** библиотеки **surprise**.\n",
        "\n",
        "Функция принимает на вход:\n",
        "*  algo - алгоритм, который будем обучать.\n",
        "*  data - исходные данные. Обратите внимание, что данные передаём не разбитые на выборки.\n",
        "*  measures - метрики ошибок по которым мы хотим сравнивать модели. Мы передаём среднеквадратичную ошибку и среднюю ошибку.\n",
        "* cv - количество фолдов.\n",
        "*  verbose - параметр указывающий хотим ли мы увидеть подробный результат выполнения функции."
      ]
    },
    {
      "cell_type": "code",
      "metadata": {
        "colab": {
          "base_uri": "https://localhost:8080/"
        },
        "id": "0dzKI1AmVA9i",
        "outputId": "26c824fb-48ef-47d1-a655-15c3fc91093d"
      },
      "source": [
        "algo = SVD()\n",
        "cross_validate(algo, data, measures=[\"RMSE\", \"MAE\"], cv=5, verbose=True)"
      ],
      "execution_count": 49,
      "outputs": [
        {
          "output_type": "stream",
          "name": "stdout",
          "text": [
            "Evaluating RMSE, MAE of algorithm SVD on 5 split(s).\n",
            "\n",
            "                  Fold 1  Fold 2  Fold 3  Fold 4  Fold 5  Mean    Std     \n",
            "RMSE (testset)    0.9417  0.9275  0.9385  0.9424  0.9361  0.9373  0.0054  \n",
            "MAE (testset)     0.7418  0.7291  0.7385  0.7392  0.7402  0.7378  0.0045  \n",
            "Fit time          5.08    5.06    4.97    5.00    4.96    5.02    0.05    \n",
            "Test time         0.35    0.16    0.18    0.29    0.23    0.24    0.07    \n"
          ]
        },
        {
          "output_type": "execute_result",
          "data": {
            "text/plain": [
              "{'fit_time': (5.080109596252441,\n",
              "  5.063431262969971,\n",
              "  4.968559980392456,\n",
              "  5.000657558441162,\n",
              "  4.964585781097412),\n",
              " 'test_mae': array([0.74175075, 0.72907118, 0.73850405, 0.73922187, 0.74023321]),\n",
              " 'test_rmse': array([0.9417237 , 0.92748419, 0.93852213, 0.94240274, 0.93612013]),\n",
              " 'test_time': (0.34694957733154297,\n",
              "  0.16080403327941895,\n",
              "  0.18162059783935547,\n",
              "  0.2872354984283447,\n",
              "  0.23198723793029785)}"
            ]
          },
          "metadata": {},
          "execution_count": 49
        }
      ]
    },
    {
      "cell_type": "markdown",
      "metadata": {
        "id": "D1ICfHrkVA9l"
      },
      "source": [
        "В результате получаем значения ошибок на каждом из фолдов, а также их среднее и стандартное отклонение (СО). Маленькое СО, как в нашем случае, говорит об устойчивости модели.\n",
        "\n",
        "Дополнительно мы видим время тренировки и время предсказания модели на каждом из фолдов."
      ]
    },
    {
      "cell_type": "markdown",
      "metadata": {
        "id": "qgBGv8BZVA9m"
      },
      "source": [
        "## Поиск по сетке (Grid search)"
      ]
    },
    {
      "cell_type": "markdown",
      "metadata": {
        "id": "j4L5ffx8VA9n"
      },
      "source": [
        "Теперь, когда у нас есть надёжный способ оценивать качество модели, мы можем перейти к подбору гиперпараметров модели, т.е. параметров, которые нужно указывать вручную, потому что нельзя обучить во время тренировки модели.\n",
        "\n",
        "Метод поиска по сетке очень прост. Мы передаём варианты каждого из параметров, который мы хотим перебрать, а функция перебирает все возможные варианты переданных параметров. Например, на картинке ниже перебираются параметры \"регуляризация\" и \"скорость обучения\"."
      ]
    },
    {
      "cell_type": "markdown",
      "metadata": {
        "id": "NfWrGyLhVA9s"
      },
      "source": [
        "<p align=\"center\">\n",
        "  <img src=\"https://drive.google.com/uc?id=1xs9z_Zo1A2QinErKYEB-bp6eGnLWodbO\" alt=\"Drawing\" style=\"width: 700px;\" width=\"700\"/>\n",
        "</p>"
      ]
    },
    {
      "cell_type": "markdown",
      "metadata": {
        "id": "PA7iOmHDLPgw"
      },
      "source": [
        "# Задание 2\n",
        "\n",
        "## Часть 1\n",
        "\n",
        "Оптимизируйте следующие параметры алгоритма SVD:\n",
        "\n",
        "* n_epochs - количество эпох обучения\n",
        "* lr_all - скорость обучения\n",
        "* reg_all - регуляризация\n",
        "\n",
        "Более детальное описание алгоритма смотри в [документации](https://surprise.readthedocs.io/en/stable/matrix_factorization.html#surprise.prediction_algorithms.matrix_factorization.SVD)\n",
        "\n",
        "P.S. не нужно делать слишком большую сетку перебора - если время расчёта отнимает больше 10 мин, то это уже очень много (для базового датасета)."
      ]
    },
    {
      "cell_type": "code",
      "metadata": {
        "id": "7g8NQTNrVA9t"
      },
      "source": [
        "from surprise.model_selection import GridSearchCV"
      ],
      "execution_count": null,
      "outputs": []
    },
    {
      "cell_type": "markdown",
      "metadata": {
        "id": "hvEIIGGeVA92"
      },
      "source": [
        "Для перебора по сетке используем функцию **GridSearchCV**. \n",
        "На вход подаём:\n",
        "* алгоритм.\n",
        "* параметры, которые хотим перебрать.\n",
        "* метрики ошибок.\n",
        "* количество фолдов для кросс-валидации.\n",
        "\n",
        "Обратите внимание, что функция выполняет кросс-валидация автоматически."
      ]
    },
    {
      "cell_type": "code",
      "metadata": {
        "id": "tUo_Y70UVA-B"
      },
      "source": [
        "# Ваш код тут"
      ],
      "execution_count": null,
      "outputs": []
    },
    {
      "cell_type": "markdown",
      "metadata": {
        "id": "mxkARUtBLPgx"
      },
      "source": [
        "## Часть 2\n",
        "\n",
        "Выберите другую модель из scikit surprise для предсказания рекомендаций (полный список смотри в [документации](https://surprise.readthedocs.io/en/stable/prediction_algorithms_package.html)).\\\n",
        "И настройте её параметры с помощью поиска по сетке.\n",
        "\n",
        "Сравните результаты с предыдущей моделью."
      ]
    },
    {
      "cell_type": "code",
      "metadata": {
        "ExecuteTime": {
          "end_time": "2021-05-19T22:04:44.054734Z",
          "start_time": "2021-05-19T22:04:44.053080Z"
        },
        "id": "k6j5YMiTLPgx"
      },
      "source": [
        "# Ваш код тут"
      ],
      "execution_count": null,
      "outputs": []
    },
    {
      "cell_type": "markdown",
      "metadata": {
        "id": "quu2Pf5cLPgx"
      },
      "source": [
        "# Задание 3\n",
        "\n",
        "С помощью натренированной модели (любой из предыдущих) постройте по 3 рекомендации для каждого клиента из тестовой выборки.\n",
        "\n",
        "Проанализируйте полученные результаты: сколько раз был порекомендован каждый фильм? Каково распределение этих частот? (постройте гистограму)"
      ]
    },
    {
      "cell_type": "code",
      "metadata": {
        "id": "S7HWf4QYLPgx"
      },
      "source": [
        "# Ваш код тут"
      ],
      "execution_count": null,
      "outputs": []
    },
    {
      "cell_type": "markdown",
      "metadata": {
        "id": "-zyDFTn-LPgx"
      },
      "source": [
        "# Задание 4 * (Дополнительное)\n",
        "\n",
        "В оригинальных данных есть поле `timestamp` (см. момент загрузки данных).\n",
        "\n",
        "Используя оптимальный вариант модели (и её гиперпараметров), найденный выше, проведите кросс-валидацию в стиле временного ряда (см. [документацию sklearn](https://scikit-learn.org/stable/modules/cross_validation.html#time-series-split)). Достаточно использовать 5 частей. Иными словами, нужно раделить выборку на равные части, каждая из которых будет соответствовать последовательным временным промежуткам.\n",
        "\n",
        "![](https://scikit-learn.org/stable/_images/sphx_glr_plot_cv_indices_010.png)\n",
        "\n",
        "Нашли ли вы отличия с предыдущей валидацией?"
      ]
    },
    {
      "cell_type": "code",
      "metadata": {
        "id": "MtnH6hJFLPgx"
      },
      "source": [
        "# Ваш код тут"
      ],
      "execution_count": null,
      "outputs": []
    }
  ]
}