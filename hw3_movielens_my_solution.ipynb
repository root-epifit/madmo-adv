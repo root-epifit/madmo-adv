{
  "nbformat": 4,
  "nbformat_minor": 0,
  "metadata": {
    "colab": {
      "name": "hw3_movielens_my_solution.ipynb",
      "provenance": [],
      "collapsed_sections": [],
      "toc_visible": true,
      "include_colab_link": true
    },
    "kernelspec": {
      "display_name": "Python [conda env:ml-mipt]",
      "language": "python",
      "name": "conda-env-ml-mipt-py"
    },
    "language_info": {
      "codemirror_mode": {
        "name": "ipython",
        "version": 3
      },
      "file_extension": ".py",
      "mimetype": "text/x-python",
      "name": "python",
      "nbconvert_exporter": "python",
      "pygments_lexer": "ipython3",
      "version": "3.8.5"
    },
    "toc": {
      "base_numbering": 1,
      "nav_menu": {},
      "number_sections": true,
      "sideBar": true,
      "skip_h1_title": false,
      "title_cell": "Table of Contents",
      "title_sidebar": "Contents",
      "toc_cell": false,
      "toc_position": {},
      "toc_section_display": true,
      "toc_window_display": true
    }
  },
  "cells": [
    {
      "cell_type": "markdown",
      "metadata": {
        "id": "view-in-github",
        "colab_type": "text"
      },
      "source": [
        "<a href=\"https://colab.research.google.com/github/root-epifit/madmo-adv/blob/my_exercise/hw3_movielens_my_solution.ipynb\" target=\"_parent\"><img src=\"https://colab.research.google.com/assets/colab-badge.svg\" alt=\"Open In Colab\"/></a>"
      ]
    },
    {
      "cell_type": "markdown",
      "metadata": {
        "id": "aNefBwu1VA7M"
      },
      "source": [
        "# Рекомендательная система на базе датасета **movielens**"
      ]
    },
    {
      "cell_type": "markdown",
      "metadata": {
        "id": "59_iZqNkVA7S"
      },
      "source": [
        "Один из наиболее известных датасетов в мире рекомендательных систем - Movielens 25M, содержащий рейтинги к фильмам, оставленные различными пользователями на одноименном сайте https://movielens.org/.\n",
        "\n",
        "Мы будем использовать мини-версию датасета, содержащую 100 тысяч записей рейтингов фильмов."
      ]
    },
    {
      "cell_type": "markdown",
      "metadata": {
        "id": "7MTzoxulVA7V"
      },
      "source": [
        "## Загрузка данных"
      ]
    },
    {
      "cell_type": "markdown",
      "metadata": {
        "id": "I5fvYqJDVA7X"
      },
      "source": [
        "Для создания алгоритмов рекомендательной системы, будем использовать библиотеку **surprise**."
      ]
    },
    {
      "cell_type": "markdown",
      "metadata": {
        "id": "rt05w2p2VA7Z"
      },
      "source": [
        "Установим её, если она ещё не установлена на компьютер."
      ]
    },
    {
      "cell_type": "code",
      "metadata": {
        "ExecuteTime": {
          "end_time": "2021-05-19T21:44:04.713021Z",
          "start_time": "2021-05-19T21:43:39.695307Z"
        },
        "colab": {
          "base_uri": "https://localhost:8080/"
        },
        "id": "jZ0JToZrVA7c",
        "outputId": "5c445330-9d4d-499b-f800-1165e51d483a"
      },
      "source": [
        "!pip install scikit-surprise"
      ],
      "execution_count": 1,
      "outputs": [
        {
          "output_type": "stream",
          "name": "stdout",
          "text": [
            "Collecting scikit-surprise\n",
            "  Downloading scikit-surprise-1.1.1.tar.gz (11.8 MB)\n",
            "\u001b[K     |████████████████████████████████| 11.8 MB 4.6 MB/s \n",
            "\u001b[?25hRequirement already satisfied: joblib>=0.11 in /usr/local/lib/python3.7/dist-packages (from scikit-surprise) (1.1.0)\n",
            "Requirement already satisfied: numpy>=1.11.2 in /usr/local/lib/python3.7/dist-packages (from scikit-surprise) (1.19.5)\n",
            "Requirement already satisfied: scipy>=1.0.0 in /usr/local/lib/python3.7/dist-packages (from scikit-surprise) (1.4.1)\n",
            "Requirement already satisfied: six>=1.10.0 in /usr/local/lib/python3.7/dist-packages (from scikit-surprise) (1.15.0)\n",
            "Building wheels for collected packages: scikit-surprise\n",
            "  Building wheel for scikit-surprise (setup.py) ... \u001b[?25l\u001b[?25hdone\n",
            "  Created wheel for scikit-surprise: filename=scikit_surprise-1.1.1-cp37-cp37m-linux_x86_64.whl size=1619397 sha256=75efdf187bc35509e83fcdc214178ac14d547e1d2cdaf9665a420ac10ee87e6a\n",
            "  Stored in directory: /root/.cache/pip/wheels/76/44/74/b498c42be47b2406bd27994e16c5188e337c657025ab400c1c\n",
            "Successfully built scikit-surprise\n",
            "Installing collected packages: scikit-surprise\n",
            "Successfully installed scikit-surprise-1.1.1\n"
          ]
        }
      ]
    },
    {
      "cell_type": "code",
      "metadata": {
        "ExecuteTime": {
          "end_time": "2021-05-19T21:44:06.029598Z",
          "start_time": "2021-05-19T21:44:04.717362Z"
        },
        "id": "jpq1v5WTVA7n"
      },
      "source": [
        "from surprise import Dataset"
      ],
      "execution_count": 2,
      "outputs": []
    },
    {
      "cell_type": "markdown",
      "metadata": {
        "id": "78r_pDDhVA7v"
      },
      "source": [
        "Загружаем датасет из **surprise**"
      ]
    },
    {
      "cell_type": "code",
      "metadata": {
        "ExecuteTime": {
          "end_time": "2021-05-19T21:44:54.051477Z",
          "start_time": "2021-05-19T21:44:52.353186Z"
        },
        "id": "1eJDcXYDVA7x",
        "colab": {
          "base_uri": "https://localhost:8080/"
        },
        "outputId": "b7ab4318-3034-4aec-b2fc-34e5479f1137"
      },
      "source": [
        "data = Dataset.load_builtin(\"ml-100k\", prompt=False)"
      ],
      "execution_count": 3,
      "outputs": [
        {
          "output_type": "stream",
          "name": "stdout",
          "text": [
            "Trying to download dataset from http://files.grouplens.org/datasets/movielens/ml-100k.zip...\n",
            "Done! Dataset ml-100k has been saved to /root/.surprise_data/ml-100k\n"
          ]
        }
      ]
    },
    {
      "cell_type": "markdown",
      "metadata": {
        "ExecuteTime": {
          "end_time": "2021-05-19T22:12:49.230638Z",
          "start_time": "2021-05-19T22:12:49.225985Z"
        },
        "id": "w0afDdq8LPgk"
      },
      "source": [
        "**Замечание для любителей настоящих данных**\n",
        "\n",
        "Вы можете попробовать загрузить полную верисю датасета (`'ml-1m'`) и попробовать сделать задание на нём.\n",
        "\n",
        "Но вычисления будут занимать большее количество времени (и требовать некоторого железа).\n",
        "\n",
        "За использование расширенного датасета не будет бонусов в оценке (да и результатах по большей части тоже) - только ваш энтузиазм."
      ]
    },
    {
      "cell_type": "markdown",
      "metadata": {
        "id": "M7FSaRcPVA74"
      },
      "source": [
        "## Визуализация данных"
      ]
    },
    {
      "cell_type": "markdown",
      "metadata": {
        "id": "_xcR-N4kVA76"
      },
      "source": [
        "Для удобной работы с данными загрузим библиотеку **pandas**"
      ]
    },
    {
      "cell_type": "code",
      "metadata": {
        "ExecuteTime": {
          "end_time": "2021-05-19T21:45:10.083388Z",
          "start_time": "2021-05-19T21:45:09.808012Z"
        },
        "id": "IbXPCvMzVA78"
      },
      "source": [
        "import pandas as pd"
      ],
      "execution_count": 4,
      "outputs": []
    },
    {
      "cell_type": "markdown",
      "metadata": {
        "id": "cBXvcnFRVA8J"
      },
      "source": [
        "Преобразуем данные к формату **pandas DataFrame**, для удобной работы с ними:"
      ]
    },
    {
      "cell_type": "code",
      "metadata": {
        "ExecuteTime": {
          "end_time": "2021-05-19T21:45:10.722512Z",
          "start_time": "2021-05-19T21:45:10.679709Z"
        },
        "id": "4c78lO-xVA8L"
      },
      "source": [
        "df = pd.DataFrame(data.raw_ratings, columns=[\"userId\", \"movieId\", \"rating\", \"timestamp\"])"
      ],
      "execution_count": 5,
      "outputs": []
    },
    {
      "cell_type": "code",
      "metadata": {
        "ExecuteTime": {
          "end_time": "2021-05-19T21:45:11.315222Z",
          "start_time": "2021-05-19T21:45:11.296874Z"
        },
        "colab": {
          "base_uri": "https://localhost:8080/",
          "height": 363
        },
        "id": "z8iZfdnZVA8S",
        "outputId": "61427f6e-6a4a-4ad1-a406-87f4cab5561e"
      },
      "source": [
        "df.head(10)"
      ],
      "execution_count": 6,
      "outputs": [
        {
          "output_type": "execute_result",
          "data": {
            "text/html": [
              "<div>\n",
              "<style scoped>\n",
              "    .dataframe tbody tr th:only-of-type {\n",
              "        vertical-align: middle;\n",
              "    }\n",
              "\n",
              "    .dataframe tbody tr th {\n",
              "        vertical-align: top;\n",
              "    }\n",
              "\n",
              "    .dataframe thead th {\n",
              "        text-align: right;\n",
              "    }\n",
              "</style>\n",
              "<table border=\"1\" class=\"dataframe\">\n",
              "  <thead>\n",
              "    <tr style=\"text-align: right;\">\n",
              "      <th></th>\n",
              "      <th>userId</th>\n",
              "      <th>movieId</th>\n",
              "      <th>rating</th>\n",
              "      <th>timestamp</th>\n",
              "    </tr>\n",
              "  </thead>\n",
              "  <tbody>\n",
              "    <tr>\n",
              "      <th>0</th>\n",
              "      <td>196</td>\n",
              "      <td>242</td>\n",
              "      <td>3.0</td>\n",
              "      <td>881250949</td>\n",
              "    </tr>\n",
              "    <tr>\n",
              "      <th>1</th>\n",
              "      <td>186</td>\n",
              "      <td>302</td>\n",
              "      <td>3.0</td>\n",
              "      <td>891717742</td>\n",
              "    </tr>\n",
              "    <tr>\n",
              "      <th>2</th>\n",
              "      <td>22</td>\n",
              "      <td>377</td>\n",
              "      <td>1.0</td>\n",
              "      <td>878887116</td>\n",
              "    </tr>\n",
              "    <tr>\n",
              "      <th>3</th>\n",
              "      <td>244</td>\n",
              "      <td>51</td>\n",
              "      <td>2.0</td>\n",
              "      <td>880606923</td>\n",
              "    </tr>\n",
              "    <tr>\n",
              "      <th>4</th>\n",
              "      <td>166</td>\n",
              "      <td>346</td>\n",
              "      <td>1.0</td>\n",
              "      <td>886397596</td>\n",
              "    </tr>\n",
              "    <tr>\n",
              "      <th>5</th>\n",
              "      <td>298</td>\n",
              "      <td>474</td>\n",
              "      <td>4.0</td>\n",
              "      <td>884182806</td>\n",
              "    </tr>\n",
              "    <tr>\n",
              "      <th>6</th>\n",
              "      <td>115</td>\n",
              "      <td>265</td>\n",
              "      <td>2.0</td>\n",
              "      <td>881171488</td>\n",
              "    </tr>\n",
              "    <tr>\n",
              "      <th>7</th>\n",
              "      <td>253</td>\n",
              "      <td>465</td>\n",
              "      <td>5.0</td>\n",
              "      <td>891628467</td>\n",
              "    </tr>\n",
              "    <tr>\n",
              "      <th>8</th>\n",
              "      <td>305</td>\n",
              "      <td>451</td>\n",
              "      <td>3.0</td>\n",
              "      <td>886324817</td>\n",
              "    </tr>\n",
              "    <tr>\n",
              "      <th>9</th>\n",
              "      <td>6</td>\n",
              "      <td>86</td>\n",
              "      <td>3.0</td>\n",
              "      <td>883603013</td>\n",
              "    </tr>\n",
              "  </tbody>\n",
              "</table>\n",
              "</div>"
            ],
            "text/plain": [
              "  userId movieId  rating  timestamp\n",
              "0    196     242     3.0  881250949\n",
              "1    186     302     3.0  891717742\n",
              "2     22     377     1.0  878887116\n",
              "3    244      51     2.0  880606923\n",
              "4    166     346     1.0  886397596\n",
              "5    298     474     4.0  884182806\n",
              "6    115     265     2.0  881171488\n",
              "7    253     465     5.0  891628467\n",
              "8    305     451     3.0  886324817\n",
              "9      6      86     3.0  883603013"
            ]
          },
          "metadata": {},
          "execution_count": 6
        }
      ]
    },
    {
      "cell_type": "markdown",
      "metadata": {
        "id": "8lk_aMC6VA8a"
      },
      "source": [
        "*  Колонка **userId** - идентификаторы пользователей сайта movielens;\n",
        "*  Колонка **movieId** - идентификаторы фильмов;\n",
        "*  Колонка **rating** - оценки фильмов пользователями по шкале от 1 до 5;\n",
        "*  Колонка **timestamp** - это время оценки фильма пользователем. Данный формат представления времени показывает, сколько секунд прошло с 1 января 1970 года."
      ]
    },
    {
      "cell_type": "markdown",
      "metadata": {
        "id": "cGXqlWpiVA8c"
      },
      "source": [
        "Мы можем посмотреть, сколько уникальных значений находится в каждой из колонок."
      ]
    },
    {
      "cell_type": "code",
      "metadata": {
        "ExecuteTime": {
          "end_time": "2021-05-19T22:02:35.215890Z",
          "start_time": "2021-05-19T22:02:35.136012Z"
        },
        "colab": {
          "base_uri": "https://localhost:8080/"
        },
        "id": "VwB6SrRHVA8e",
        "outputId": "c440fede-260b-4e25-f72d-ecf43fbd0e15"
      },
      "source": [
        "df.apply(\"nunique\")"
      ],
      "execution_count": 7,
      "outputs": [
        {
          "output_type": "execute_result",
          "data": {
            "text/plain": [
              "userId         943\n",
              "movieId       1682\n",
              "rating           5\n",
              "timestamp    49282\n",
              "dtype: int64"
            ]
          },
          "metadata": {},
          "execution_count": 7
        }
      ]
    },
    {
      "cell_type": "code",
      "metadata": {
        "colab": {
          "base_uri": "https://localhost:8080/"
        },
        "id": "4nRUYzukL4xO",
        "outputId": "38543a3c-44b1-498b-ae79-c1dff5409fc4"
      },
      "source": [
        "# userId, moveId, timestamp - string\n",
        "df.dtypes"
      ],
      "execution_count": 8,
      "outputs": [
        {
          "output_type": "execute_result",
          "data": {
            "text/plain": [
              "userId        object\n",
              "movieId       object\n",
              "rating       float64\n",
              "timestamp     object\n",
              "dtype: object"
            ]
          },
          "metadata": {},
          "execution_count": 8
        }
      ]
    },
    {
      "cell_type": "code",
      "metadata": {
        "colab": {
          "base_uri": "https://localhost:8080/"
        },
        "id": "r2DDVWKRMvGv",
        "outputId": "8d12d459-356f-4949-94e7-04657c1e41d8"
      },
      "source": [
        "print(df[['userId', 'movieId', 'timestamp']].astype('int').nunique())\n",
        "df.rating.count()"
      ],
      "execution_count": 9,
      "outputs": [
        {
          "output_type": "stream",
          "name": "stdout",
          "text": [
            "userId         943\n",
            "movieId       1682\n",
            "timestamp    49282\n",
            "dtype: int64\n"
          ]
        },
        {
          "output_type": "execute_result",
          "data": {
            "text/plain": [
              "100000"
            ]
          },
          "metadata": {},
          "execution_count": 9
        }
      ]
    },
    {
      "cell_type": "markdown",
      "metadata": {
        "id": "gdNUHvGaVA8l"
      },
      "source": [
        "Для корректной работы с графиками в python требуется загрузить специальную библиотеку\n",
        "**matplotlib**, программную библиотеку на языке python для визуализации данных двумерной и трехмерной графикой."
      ]
    },
    {
      "cell_type": "markdown",
      "metadata": {
        "id": "Tmcpr7aiVA8r"
      },
      "source": [
        "Посмотрим наглядно, как часто в датасете встречаются разные оценки:"
      ]
    },
    {
      "cell_type": "code",
      "metadata": {
        "ExecuteTime": {
          "end_time": "2021-05-19T22:02:37.345997Z",
          "start_time": "2021-05-19T22:02:37.184180Z"
        },
        "colab": {
          "base_uri": "https://localhost:8080/",
          "height": 281
        },
        "id": "3XYMil_AVA8s",
        "outputId": "b9b2b3d3-c172-4036-fac3-429a0118fbfb"
      },
      "source": [
        "df[\"rating\"].value_counts().sort_index().plot.bar(title=\"Распределение рейтингов\", rot=0);"
      ],
      "execution_count": 10,
      "outputs": [
        {
          "output_type": "display_data",
          "data": {
            "image/png": "[encoded data removed]",
            "text/plain": [
              "<Figure size 432x288 with 1 Axes>"
            ]
          },
          "metadata": {
            "needs_background": "light"
          }
        }
      ]
    },
    {
      "cell_type": "markdown",
      "metadata": {
        "id": "sc4V13ojVA8x"
      },
      "source": [
        "## Разбиение выборки на обучающую и тестовую"
      ]
    },
    {
      "cell_type": "markdown",
      "metadata": {
        "id": "feldOglfVA8z"
      },
      "source": [
        "Библиотека **surprise** высокоуровневая, и позволяет нам разбить данные на обучающую и тестовую выборки всего одной функцией **train_test_split()**"
      ]
    },
    {
      "cell_type": "code",
      "metadata": {
        "ExecuteTime": {
          "end_time": "2021-05-19T22:02:38.425837Z",
          "start_time": "2021-05-19T22:02:38.423431Z"
        },
        "id": "wj01SJESVA80"
      },
      "source": [
        "from surprise.model_selection import train_test_split"
      ],
      "execution_count": 11,
      "outputs": []
    },
    {
      "cell_type": "markdown",
      "metadata": {
        "id": "oapSXAZ2VA84"
      },
      "source": [
        "Функция **train_test_split()** принимает на вход два параметра:\n",
        "*  **data** - данные\n",
        "*  **test_size** - доля тестовой выборки. Укажем 0,25, чтобы тестовая выборка составляла 25% от всей выборки."
      ]
    },
    {
      "cell_type": "code",
      "metadata": {
        "ExecuteTime": {
          "end_time": "2021-05-19T22:02:39.800246Z",
          "start_time": "2021-05-19T22:02:39.639654Z"
        },
        "id": "tL12glA_VA85"
      },
      "source": [
        "trainset, testset = train_test_split(data, test_size=0.25)"
      ],
      "execution_count": 12,
      "outputs": []
    },
    {
      "cell_type": "markdown",
      "metadata": {
        "id": "yHxIWnc1LPgr"
      },
      "source": [
        "# Задание 1\n",
        "\n",
        "Проведите исследование данных (exploratory data analysis, EDA).\n",
        "\n",
        "Выясните:\n",
        "\n",
        "1. Сколько оценок в среднем поставил один человек (и какова выборочная дисперсия этой величины)\n",
        "2. Сколько оценок в среднем имеет один фильм (+дисперсия)\n",
        "\n",
        "Также для каждой из этих величин постройте гистограму (или violin plot) распределения чтобы увидеть картину целиком. Возможно вам понадобится использовать логарифмический масштаб осей (эту настройку можно передать в matplotlib)."
      ]
    },
    {
      "cell_type": "code",
      "metadata": {
        "ExecuteTime": {
          "end_time": "2021-05-19T22:02:40.697202Z",
          "start_time": "2021-05-19T22:02:40.695626Z"
        },
        "id": "_4MBMkwPLPgr"
      },
      "source": [
        "# Ваш код тут\n"
      ],
      "execution_count": 13,
      "outputs": []
    },
    {
      "cell_type": "markdown",
      "metadata": {
        "id": "E6quoIV-P0yN"
      },
      "source": [
        "###### 1. Сколько оценок в среднем поставил один человек и дисперсия этой величины"
      ]
    },
    {
      "cell_type": "code",
      "metadata": {
        "colab": {
          "base_uri": "https://localhost:8080/",
          "height": 406
        },
        "id": "ntNM7a9mSd11",
        "outputId": "fa9321dc-3bf3-4055-8aae-065b0278aeb4"
      },
      "source": [
        "from matplotlib import pyplot as plt\n",
        "\n",
        "dfc = pd.DataFrame(\n",
        "    df[['userId','movieId']].\n",
        "    astype('int').\n",
        "    groupby('userId')['userId'].\n",
        "    count()).rename(columns = {'userId':'Counts'})\n",
        "\n",
        "print(\"\")\n",
        "print(f\"Mean        number of reviews/person: {dfc.mean()[0]:.0f}\")\n",
        "print(f\"Variance                            : {dfc.var()[0]:.3f}\")\n",
        "print(f\"Standard deviation                  : {dfc.std()[0]:.3f}\")\n",
        "print(\"\")\n",
        "\n",
        "\n",
        "# Визуализация\n",
        "fig, axs = plt.subplots(nrows = 1, ncols = 2, figsize=(10,4), tight_layout = True)\n",
        "axs = axs.flatten()\n",
        "\n",
        "plt.title(\"Distribution of numbers of reviews/person\")\n",
        "\n",
        "dfc.hist(ax = axs[0], column='Counts',  bins = 100, log=True)\n",
        "axs[0].set_xlabel(\"Num of reviews/person\")\n",
        "axs[0].set_ylabel(\"log(Num of persons)\")\n",
        "axs[0].set_title(\"Logarithmic scale\")\n",
        "\n",
        "dfc.hist(ax = axs[1], column='Counts',  bins = 100, log=False)\n",
        "axs[1].set_xlabel(\"Num of reviews/person\")\n",
        "axs[1].set_ylabel(\"Num of persons)\")\n",
        "axs[1].set_title(\"Normal scale\")"
      ],
      "execution_count": 14,
      "outputs": [
        {
          "output_type": "stream",
          "name": "stdout",
          "text": [
            "\n",
            "Mean        number of reviews/person: 106\n",
            "Variance                            : 10187.217\n",
            "Standard deviation                  : 100.932\n",
            "\n"
          ]
        },
        {
          "output_type": "execute_result",
          "data": {
            "text/plain": [
              "Text(0.5, 1.0, 'Normal scale')"
            ]
          },
          "metadata": {},
          "execution_count": 14
        },
        {
          "output_type": "display_data",
          "data": {
            "image/png": "[encoded data removed]",
            "text/plain": [
              "<Figure size 720x288 with 2 Axes>"
            ]
          },
          "metadata": {
            "needs_background": "light"
          }
        }
      ]
    },
    {
      "cell_type": "markdown",
      "metadata": {
        "id": "ZMYsRjB_qzbg"
      },
      "source": [
        "###### 2. Сколько оценок в среднем имеет один фильм (+дисперсия)"
      ]
    },
    {
      "cell_type": "code",
      "metadata": {
        "colab": {
          "base_uri": "https://localhost:8080/",
          "height": 406
        },
        "id": "ZmhQ8A-YkRma",
        "outputId": "6d2d7293-9faa-4b5d-98e8-84f63207efad"
      },
      "source": [
        "dfm = pd.DataFrame(\n",
        "    df[['userId','movieId']].\n",
        "    astype('int').\n",
        "    groupby('movieId')['movieId'].\n",
        "    count()).rename(columns = {'movieId':'Counts'})\n",
        "print(\"\")\n",
        "print(f\"Mean        number of reviews/movie: {dfm.mean()[0]:.0f}\")\n",
        "print(f\"Variance                           : {dfm.var()[0]:.3f}\")\n",
        "print(f\"Standard deviation                 : {dfm.std()[0]:.3f}\")\n",
        "print(\"\")\n",
        "\n",
        "\n",
        "# Визуализация\n",
        "fig, axs = plt.subplots(nrows = 1, ncols = 3, figsize=(15,4), tight_layout = True)\n",
        "axs = axs.flatten()\n",
        "\n",
        "plt.title(\"Distribution of numbers of reviews/person\")\n",
        "\n",
        "dfm.hist(ax = axs[0], column='Counts',  bins = 100, log=True)\n",
        "axs[0].set_xlabel(\"Num of reviews/movie\")\n",
        "axs[0].set_ylabel(\"log(Num of movies)\")\n",
        "axs[0].set_title(\"Logarithmic scale\")\n",
        "\n",
        "dfm.hist(ax = axs[1], column='Counts',  bins = 100, log=False)\n",
        "axs[1].set_xlabel(\"Num of reviews/movie\")\n",
        "axs[1].set_ylabel(\"Num of movies)\")\n",
        "axs[1].set_title(\"Normal scale\")\n",
        "\n",
        "dfm.value_counts().sort_index().plot(ax = axs[2])\n",
        "\n",
        "axs[2].set_xlabel(\"Num of reviews/movie\")\n",
        "axs[2].set_ylabel(\"Num of movies)\")\n",
        "axs[2].set_title(\"Normal scale\")\n"
      ],
      "execution_count": 15,
      "outputs": [
        {
          "output_type": "stream",
          "name": "stdout",
          "text": [
            "\n",
            "Mean        number of reviews/movie: 59\n",
            "Variance                           : 6461.563\n",
            "Standard deviation                 : 80.384\n",
            "\n"
          ]
        },
        {
          "output_type": "execute_result",
          "data": {
            "text/plain": [
              "Text(0.5, 1.0, 'Normal scale')"
            ]
          },
          "metadata": {},
          "execution_count": 15
        },
        {
          "output_type": "display_data",
          "data": {
            "image/png": "[encoded data removed]",
            "text/plain": [
              "<Figure size 1080x288 with 3 Axes>"
            ]
          },
          "metadata": {
            "needs_background": "light"
          }
        }
      ]
    },
    {
      "cell_type": "markdown",
      "metadata": {
        "id": "Pjk90jTfVA89"
      },
      "source": [
        "## Построение простой модели"
      ]
    },
    {
      "cell_type": "code",
      "metadata": {
        "ExecuteTime": {
          "end_time": "2021-05-19T22:02:41.561498Z",
          "start_time": "2021-05-19T22:02:41.559739Z"
        },
        "id": "R4bUU2_iVA8-"
      },
      "source": [
        "from surprise import SVD, KNNBasic, accuracy"
      ],
      "execution_count": 16,
      "outputs": []
    },
    {
      "cell_type": "markdown",
      "metadata": {
        "id": "wIrqEcYHVA9C"
      },
      "source": [
        "Инициализируем алгоритм. Алгоритм SVD - один из самых распространенных методов матричной факторизации (представления матрицы в виде произведения нескольких матриц). Такое представление позволяет анализировать похожие матрицы и раскладывать их на так называемые \"компоненты\". А так же, восстанавливая матрицы их этих компонент - заполнять недостающие значения (в нашем случае - оценки). Почитать можно здесь: http://www.albertauyeung.com/post/python-matrix-factorization/"
      ]
    },
    {
      "cell_type": "code",
      "metadata": {
        "ExecuteTime": {
          "end_time": "2021-05-19T22:02:42.425602Z",
          "start_time": "2021-05-19T22:02:42.423778Z"
        },
        "id": "U-C8PSgmVA9D"
      },
      "source": [
        "algo = SVD()"
      ],
      "execution_count": 17,
      "outputs": []
    },
    {
      "cell_type": "markdown",
      "metadata": {
        "id": "T46Qt-efVA9G"
      },
      "source": [
        "Тренируем на тренировочной выборке алгоритм."
      ]
    },
    {
      "cell_type": "code",
      "metadata": {
        "ExecuteTime": {
          "end_time": "2021-05-19T22:02:46.743669Z",
          "start_time": "2021-05-19T22:02:43.351791Z"
        },
        "id": "023_UmhzVA9I",
        "colab": {
          "base_uri": "https://localhost:8080/"
        },
        "outputId": "bfe9a10e-f8ae-4691-bdea-c503895cfd37"
      },
      "source": [
        "algo.fit(trainset)"
      ],
      "execution_count": 18,
      "outputs": [
        {
          "output_type": "execute_result",
          "data": {
            "text/plain": [
              "<surprise.prediction_algorithms.matrix_factorization.SVD at 0x7ff8319f4f50>"
            ]
          },
          "metadata": {},
          "execution_count": 18
        }
      ]
    },
    {
      "cell_type": "markdown",
      "metadata": {
        "id": "PLr4X8_3VA9M"
      },
      "source": [
        "Делаем предсказание на тестовой выборке."
      ]
    },
    {
      "cell_type": "code",
      "metadata": {
        "ExecuteTime": {
          "end_time": "2021-05-19T22:02:46.889187Z",
          "start_time": "2021-05-19T22:02:46.745178Z"
        },
        "id": "bgtICWuYVA9N"
      },
      "source": [
        "predictions = algo.test(testset)"
      ],
      "execution_count": 19,
      "outputs": []
    },
    {
      "cell_type": "code",
      "metadata": {
        "ExecuteTime": {
          "end_time": "2021-05-19T22:02:46.935936Z",
          "start_time": "2021-05-19T22:02:46.891085Z"
        },
        "colab": {
          "base_uri": "https://localhost:8080/"
        },
        "id": "Vl2LGS6R_w5Y",
        "outputId": "ed7c8411-1ff9-4d87-936c-a364e63dc13c"
      },
      "source": [
        "testset[:10]"
      ],
      "execution_count": 20,
      "outputs": [
        {
          "output_type": "execute_result",
          "data": {
            "text/plain": [
              "[('373', '25', 4.0),\n",
              " ('907', '88', 5.0),\n",
              " ('257', '307', 4.0),\n",
              " ('780', '187', 5.0),\n",
              " ('468', '372', 2.0),\n",
              " ('771', '15', 5.0),\n",
              " ('663', '7', 4.0),\n",
              " ('648', '194', 5.0),\n",
              " ('234', '222', 3.0),\n",
              " ('871', '22', 5.0)]"
            ]
          },
          "metadata": {},
          "execution_count": 20
        }
      ]
    },
    {
      "cell_type": "code",
      "metadata": {
        "colab": {
          "base_uri": "https://localhost:8080/"
        },
        "id": "mxwIpNbzvqbI",
        "outputId": "e46f5611-d0c1-4ef9-9408-b010be531014"
      },
      "source": [
        "predictions[:10]"
      ],
      "execution_count": 21,
      "outputs": [
        {
          "output_type": "execute_result",
          "data": {
            "text/plain": [
              "[Prediction(uid='373', iid='25', r_ui=4.0, est=3.7595232703506345, details={'was_impossible': False}),\n",
              " Prediction(uid='907', iid='88', r_ui=5.0, est=4.95451085338881, details={'was_impossible': False}),\n",
              " Prediction(uid='257', iid='307', r_ui=4.0, est=3.9327450510274904, details={'was_impossible': False}),\n",
              " Prediction(uid='780', iid='187', r_ui=5.0, est=4.19898728422087, details={'was_impossible': False}),\n",
              " Prediction(uid='468', iid='372', r_ui=2.0, est=3.6630449813416344, details={'was_impossible': False}),\n",
              " Prediction(uid='771', iid='15', r_ui=5.0, est=3.676833275038169, details={'was_impossible': False}),\n",
              " Prediction(uid='663', iid='7', r_ui=4.0, est=3.8283540332962014, details={'was_impossible': False}),\n",
              " Prediction(uid='648', iid='194', r_ui=5.0, est=3.932329713622882, details={'was_impossible': False}),\n",
              " Prediction(uid='234', iid='222', r_ui=3.0, est=2.553271986573215, details={'was_impossible': False}),\n",
              " Prediction(uid='871', iid='22', r_ui=5.0, est=3.839819766714292, details={'was_impossible': False})]"
            ]
          },
          "metadata": {},
          "execution_count": 21
        }
      ]
    },
    {
      "cell_type": "code",
      "metadata": {
        "ExecuteTime": {
          "end_time": "2021-05-19T22:02:47.649261Z",
          "start_time": "2021-05-19T22:02:47.631815Z"
        },
        "colab": {
          "base_uri": "https://localhost:8080/"
        },
        "id": "rvvw4w3aVA9R",
        "outputId": "552d07a3-bede-4bdf-d86f-04b295e88a82"
      },
      "source": [
        "accuracy.rmse(predictions, verbose=True);"
      ],
      "execution_count": 22,
      "outputs": [
        {
          "output_type": "stream",
          "name": "stdout",
          "text": [
            "RMSE: 0.9356\n"
          ]
        }
      ]
    },
    {
      "cell_type": "markdown",
      "metadata": {
        "id": "gxA9DhnrVA9W"
      },
      "source": [
        "## Кросс-валидация"
      ]
    },
    {
      "cell_type": "markdown",
      "metadata": {
        "id": "3nfQSI8gVA9X"
      },
      "source": [
        "Обучая любой алгоритм машинного обучения мы, фактически, \"подгоняем\" модель под данные, которые ей подаём. Но, если подгонять слишком сильно, то модель переобучится. То есть модель начнёт запоминать ответы вместо того, чтобы выявлять закономерности. \n",
        "\n",
        "На графиках ниже точки тренировочной выборки:\n",
        "*  слева - недообученная модель (большая ошибка на тренировочной выборке; большая ошибка на тестовой выборке)\n",
        "*  посередине - хорошо обученная модель (маленькая ошибка на тренировочной выборке; маленькая ошибка на тестовой выборке)\n",
        "*  справа - переобученная модель (очень маленькая или нулевая ошибка на тренировочной выборке; большая ошибка на тестовой выборке)"
      ]
    },
    {
      "cell_type": "markdown",
      "metadata": {
        "id": "7sdQG7kTVA9Y"
      },
      "source": [
        "<p align=\"center\">\n",
        "  <img src=\"https://drive.google.com/uc?id=1Eg4Xg4o-lhzrgqNNmNQCtB1RxNJmnmWx\" alt=\"Drawing\" style=\"width: 700px;\" width=\"700\"/>\n",
        "</p>"
      ]
    },
    {
      "cell_type": "markdown",
      "metadata": {
        "id": "mYNhrqsNVA9Z"
      },
      "source": [
        "Таким образом, обучая модель, мы всегда уменьшаем ошибку на тренировочной выборке. Вместе с ошибкой на тренировочной выборке, падает и ошибка на тестовой. Но после какого-то момента, модель начинает переобучатся, и ошибка на тестовой выборке начинает расти, в то время, как ошибка на тренировочной выборке продолжает падать. "
      ]
    },
    {
      "cell_type": "markdown",
      "metadata": {
        "id": "Xmuhn5RUVA9Z"
      },
      "source": [
        "<p align=\"center\">\n",
        "  <img src=\"https://drive.google.com/uc?id=1mvU_jJIe07tAoX82qODcpmTBctx0ReuT\" alt=\"Drawing\" style=\"width: 700px;\" width=\"700\"/>\n",
        "</p>"
      ]
    },
    {
      "cell_type": "markdown",
      "metadata": {
        "id": "k-m8IjEkVA9a"
      },
      "source": [
        "Может получится ситуация, когда мы видим маленькую ошибку нашей модели, и думаем, что она хорошая, но на самом деле она просто переобучилась, и на новых данных покажет плохой результат.\n",
        "\n",
        "Чтобы избежать такой ситуации можно использовать отложенную выборку. То есть мы разбиваем наши данные на **тренировочную** выборку, **тестовую** выборку и **отложенную** выборку. Соответственно, обучаем модель на тренировочной, в ходе обучения проверяем результат на тестовой выборке, а в конце обучения, чтобы оценить качество модели, ошибку считаем на отложенной выборке."
      ]
    },
    {
      "cell_type": "markdown",
      "metadata": {
        "id": "6qQjDxYpVA9c"
      },
      "source": [
        "При таком подходе в обучении модели участвует только тренировочная выборка. Тестовую и отложенную мы используем только для проверки. Если у нас мало данных, отложенная выборка - непозволительная роскошь. \n",
        "\n",
        "Другой популярный подход это **кросс-валидация** или скользящий контроль. Суть метода заключается в том, что мы дераем не одно разбиение датесета, а несколько разбиений таким образом, чтобы все данные использовались и в обучении и для проверки. Такие разбиения называются **фолдами**. \n",
        "\n",
        "Преимущества такого подхожа в том, что мы используем все данные для обучения. Также это позволяет оценить устойчивость модели. Если ошибки полученные на разных фолдах сильно отличаются, что модель неустойчива.\n",
        "Недостаток метода в том, что нам нужно обучать не одну модель, а несколько (столько, сколько мы выбрали фолдов).\n",
        "\n",
        "На практике часто выбирают 5 фолдов."
      ]
    },
    {
      "cell_type": "markdown",
      "metadata": {
        "id": "ZrMKa--nVA9d"
      },
      "source": [
        "<p align=\"center\">\n",
        "  <img src=\"https://drive.google.com/uc?id=1C9eHgCi30X08XaSScmjqIOT3ayBtBiFw\" alt=\"Drawing\" style=\"width: 500px;\" width=\"300\"/>\n",
        "</p>"
      ]
    },
    {
      "cell_type": "code",
      "metadata": {
        "id": "3Nm_zw-BVA9e"
      },
      "source": [
        "from surprise.model_selection import cross_validate"
      ],
      "execution_count": 23,
      "outputs": []
    },
    {
      "cell_type": "markdown",
      "metadata": {
        "id": "VEPy4jGKVA9h"
      },
      "source": [
        "Используем функцию **cross_validate** из модуля **model_selection** библиотеки **surprise**.\n",
        "\n",
        "Функция принимает на вход:\n",
        "*  algo - алгоритм, который будем обучать.\n",
        "*  data - исходные данные. Обратите внимание, что данные передаём не разбитые на выборки.\n",
        "*  measures - метрики ошибок по которым мы хотим сравнивать модели. Мы передаём среднеквадратичную ошибку и среднюю ошибку.\n",
        "* cv - количество фолдов.\n",
        "*  verbose - параметр указывающий хотим ли мы увидеть подробный результат выполнения функции."
      ]
    },
    {
      "cell_type": "code",
      "metadata": {
        "colab": {
          "base_uri": "https://localhost:8080/"
        },
        "id": "0dzKI1AmVA9i",
        "outputId": "c0489b18-fb80-4b5b-985d-266cdbb4518b"
      },
      "source": [
        "algo = SVD()\n",
        "cross_validate(algo, data, measures=[\"RMSE\", \"MAE\"], cv=5, verbose=True)"
      ],
      "execution_count": 24,
      "outputs": [
        {
          "output_type": "stream",
          "name": "stdout",
          "text": [
            "Evaluating RMSE, MAE of algorithm SVD on 5 split(s).\n",
            "\n",
            "                  Fold 1  Fold 2  Fold 3  Fold 4  Fold 5  Mean    Std     \n",
            "RMSE (testset)    0.9335  0.9376  0.9356  0.9326  0.9386  0.9356  0.0023  \n",
            "MAE (testset)     0.7353  0.7393  0.7374  0.7367  0.7407  0.7379  0.0019  \n",
            "Fit time          4.92    4.88    4.89    4.90    4.91    4.90    0.01    \n",
            "Test time         0.40    0.23    0.19    0.29    0.27    0.28    0.07    \n"
          ]
        },
        {
          "output_type": "execute_result",
          "data": {
            "text/plain": [
              "{'fit_time': (4.924533367156982,\n",
              "  4.8825297355651855,\n",
              "  4.887060642242432,\n",
              "  4.902891635894775,\n",
              "  4.906601667404175),\n",
              " 'test_mae': array([0.73530804, 0.73929388, 0.73736275, 0.73674434, 0.74068549]),\n",
              " 'test_rmse': array([0.93351273, 0.93756362, 0.93562823, 0.93263491, 0.93863739]),\n",
              " 'test_time': (0.39734601974487305,\n",
              "  0.23015570640563965,\n",
              "  0.18907856941223145,\n",
              "  0.2946500778198242,\n",
              "  0.27091336250305176)}"
            ]
          },
          "metadata": {},
          "execution_count": 24
        }
      ]
    },
    {
      "cell_type": "markdown",
      "metadata": {
        "id": "D1ICfHrkVA9l"
      },
      "source": [
        "В результате получаем значения ошибок на каждом из фолдов, а также их среднее и стандартное отклонение (СО). Маленькое СО, как в нашем случае, говорит об устойчивости модели.\n",
        "\n",
        "Дополнительно мы видим время тренировки и время предсказания модели на каждом из фолдов."
      ]
    },
    {
      "cell_type": "markdown",
      "metadata": {
        "id": "qgBGv8BZVA9m"
      },
      "source": [
        "## Поиск по сетке (Grid search)"
      ]
    },
    {
      "cell_type": "markdown",
      "metadata": {
        "id": "j4L5ffx8VA9n"
      },
      "source": [
        "Теперь, когда у нас есть надёжный способ оценивать качество модели, мы можем перейти к подбору гиперпараметров модели, т.е. параметров, которые нужно указывать вручную, потому что нельзя обучить во время тренировки модели.\n",
        "\n",
        "Метод поиска по сетке очень прост. Мы передаём варианты каждого из параметров, который мы хотим перебрать, а функция перебирает все возможные варианты переданных параметров. Например, на картинке ниже перебираются параметры \"регуляризация\" и \"скорость обучения\"."
      ]
    },
    {
      "cell_type": "markdown",
      "metadata": {
        "id": "NfWrGyLhVA9s"
      },
      "source": [
        "<p align=\"center\">\n",
        "  <img src=\"https://drive.google.com/uc?id=1xs9z_Zo1A2QinErKYEB-bp6eGnLWodbO\" alt=\"Drawing\" style=\"width: 700px;\" width=\"700\"/>\n",
        "</p>"
      ]
    },
    {
      "cell_type": "markdown",
      "metadata": {
        "id": "PA7iOmHDLPgw"
      },
      "source": [
        "# Задание 2\n",
        "\n",
        "## Часть 1\n",
        "\n",
        "Оптимизируйте следующие параметры алгоритма SVD:\n",
        "\n",
        "* n_epochs - количество эпох обучения\n",
        "* lr_all - скорость обучения\n",
        "* reg_all - регуляризация\n",
        "\n",
        "Более детальное описание алгоритма смотри в [документации](https://surprise.readthedocs.io/en/stable/matrix_factorization.html#surprise.prediction_algorithms.matrix_factorization.SVD)\n",
        "\n",
        "P.S. не нужно делать слишком большую сетку перебора - если время расчёта отнимает больше 10 мин, то это уже очень много (для базового датасета)."
      ]
    },
    {
      "cell_type": "code",
      "metadata": {
        "id": "7g8NQTNrVA9t"
      },
      "source": [
        "from surprise.model_selection import GridSearchCV"
      ],
      "execution_count": 25,
      "outputs": []
    },
    {
      "cell_type": "markdown",
      "metadata": {
        "id": "hvEIIGGeVA92"
      },
      "source": [
        "Для перебора по сетке используем функцию **GridSearchCV**. \n",
        "На вход подаём:\n",
        "* алгоритм.\n",
        "* параметры, которые хотим перебрать.\n",
        "* метрики ошибок.\n",
        "* количество фолдов для кросс-валидации.\n",
        "\n",
        "Обратите внимание, что функция выполняет кросс-валидация автоматически."
      ]
    },
    {
      "cell_type": "code",
      "metadata": {
        "id": "tUo_Y70UVA-B"
      },
      "source": [
        "# Ваш код тут"
      ],
      "execution_count": 26,
      "outputs": []
    },
    {
      "cell_type": "code",
      "metadata": {
        "colab": {
          "base_uri": "https://localhost:8080/"
        },
        "id": "nEuMZK5RC1vW",
        "outputId": "f953af11-71b1-494b-8469-fb5409255b81"
      },
      "source": [
        "import numpy as np\n",
        "\n",
        "param_grid = {'n_epochs': np.arange(5, 20 ,5),\n",
        "              'lr_all': np.arange(0.001, 0.005, 0.002),\n",
        "              'reg_all': np.arange(0.4, 0.6, 0.1)\n",
        "              }\n",
        "\n",
        "gs_svd = GridSearchCV(SVD, \n",
        "                   param_grid = param_grid, \n",
        "                   measures = ['rmse', 'mae'], \n",
        "                   cv = 5,\n",
        "                   n_jobs = 4,\n",
        "                   joblib_verbose = 3)\n",
        "\n",
        "gs_svd.fit(data)"
      ],
      "execution_count": 27,
      "outputs": [
        {
          "output_type": "stream",
          "name": "stderr",
          "text": [
            "[Parallel(n_jobs=4)]: Using backend LokyBackend with 4 concurrent workers.\n",
            "[Parallel(n_jobs=4)]: Done  24 tasks      | elapsed:  1.3min\n",
            "[Parallel(n_jobs=4)]: Done  60 out of  60 | elapsed:  3.8min finished\n"
          ]
        }
      ]
    },
    {
      "cell_type": "code",
      "metadata": {
        "colab": {
          "base_uri": "https://localhost:8080/"
        },
        "id": "k5mqI2IuNGVx",
        "outputId": "1c9ce7c7-c890-412c-df72-63671afda5bc"
      },
      "source": [
        "# Лучший набор параметров\n",
        "print(gs_svd.best_params)\n",
        "\n",
        "# Лучшие метрики\n",
        "print(gs_svd.best_score)"
      ],
      "execution_count": 28,
      "outputs": [
        {
          "output_type": "stream",
          "name": "stdout",
          "text": [
            "{'rmse': {'n_epochs': 15, 'lr_all': 0.003, 'reg_all': 0.4}, 'mae': {'n_epochs': 15, 'lr_all': 0.003, 'reg_all': 0.4}}\n",
            "{'rmse': 0.9617541562764342, 'mae': 0.7708050253960226}\n"
          ]
        }
      ]
    },
    {
      "cell_type": "code",
      "metadata": {
        "colab": {
          "base_uri": "https://localhost:8080/"
        },
        "id": "__WME3QAN6LH",
        "outputId": "256739cb-80b6-440b-b45f-6464a791e8d8"
      },
      "source": [
        "# Метрика, которую на тестовой выборке дает SVD с лучшими параметрами\n",
        "\n",
        "#algo = SVD(**gs_svd.best_params['rmse'])\n",
        "algo = gs_svd.best_estimator['rmse']\n",
        "algo.fit(trainset)\n",
        "predictions = algo.test(testset)\n",
        "accuracy.rmse(predictions)"
      ],
      "execution_count": 29,
      "outputs": [
        {
          "output_type": "stream",
          "name": "stdout",
          "text": [
            "RMSE: 0.9362\n"
          ]
        },
        {
          "output_type": "execute_result",
          "data": {
            "text/plain": [
              "0.9361849731655968"
            ]
          },
          "metadata": {},
          "execution_count": 29
        }
      ]
    },
    {
      "cell_type": "markdown",
      "metadata": {
        "id": "mxkARUtBLPgx"
      },
      "source": [
        "## Часть 2\n",
        "\n",
        "Выберите другую модель из scikit surprise для предсказания рекомендаций (полный список смотри в [документации](https://surprise.readthedocs.io/en/stable/prediction_algorithms_package.html)).\\\n",
        "И настройте её параметры с помощью поиска по сетке.\n",
        "\n",
        "Сравните результаты с предыдущей моделью."
      ]
    },
    {
      "cell_type": "code",
      "metadata": {
        "ExecuteTime": {
          "end_time": "2021-05-19T22:04:44.054734Z",
          "start_time": "2021-05-19T22:04:44.053080Z"
        },
        "id": "k6j5YMiTLPgx"
      },
      "source": [
        "# Ваш код тут"
      ],
      "execution_count": 30,
      "outputs": []
    },
    {
      "cell_type": "code",
      "metadata": {
        "colab": {
          "base_uri": "https://localhost:8080/"
        },
        "id": "XvBOu4XoMW6b",
        "outputId": "e584a46f-a09b-4231-d78c-3b3648e33fea"
      },
      "source": [
        "param_grid = {'k': np.arange(20, 60, 10),\n",
        "              'min_k': np.arange(1, 5, 1)}\n",
        "\n",
        "grs_knn = GridSearchCV(KNNBasic, \n",
        "                   param_grid = param_grid, \n",
        "                   measures = ['rmse', 'mae'], \n",
        "                   cv = 5,\n",
        "                   n_jobs = 4,\n",
        "                   joblib_verbose = 3)\n",
        "\n",
        "grs_knn.fit(data)"
      ],
      "execution_count": 31,
      "outputs": [
        {
          "output_type": "stream",
          "name": "stderr",
          "text": [
            "[Parallel(n_jobs=4)]: Using backend LokyBackend with 4 concurrent workers.\n",
            "[Parallel(n_jobs=4)]: Done  24 tasks      | elapsed:  1.9min\n",
            "[Parallel(n_jobs=4)]: Done  80 out of  80 | elapsed:  6.6min finished\n"
          ]
        }
      ]
    },
    {
      "cell_type": "code",
      "metadata": {
        "colab": {
          "base_uri": "https://localhost:8080/"
        },
        "id": "aI2mKNR7RPPk",
        "outputId": "2596db37-7831-4dc8-f7f0-2d20f60ec6d0"
      },
      "source": [
        "print(grs_knn.best_params)\n",
        "print(grs_knn.best_score)"
      ],
      "execution_count": 32,
      "outputs": [
        {
          "output_type": "stream",
          "name": "stdout",
          "text": [
            "{'rmse': {'k': 30, 'min_k': 2}, 'mae': {'k': 20, 'min_k': 2}}\n",
            "{'rmse': 0.9755854123764353, 'mae': 0.7697674643884643}\n"
          ]
        }
      ]
    },
    {
      "cell_type": "code",
      "metadata": {
        "colab": {
          "base_uri": "https://localhost:8080/"
        },
        "id": "TFBQRZDFVCMW",
        "outputId": "4d3df629-2e63-45ca-86fa-594c83a36164"
      },
      "source": [
        "# Метрика, которую на тестовой выборке дает SVD с лучшими параметрами\n",
        "\n",
        "#algo = KNNBasic(**grs.best_params['rmse'])\n",
        "algo = grs_knn.best_estimator['rmse']\n",
        "algo.fit(trainset)\n",
        "predictions = algo.test(testset)\n",
        "accuracy.rmse(predictions)"
      ],
      "execution_count": 33,
      "outputs": [
        {
          "output_type": "stream",
          "name": "stdout",
          "text": [
            "Computing the msd similarity matrix...\n",
            "Done computing similarity matrix.\n",
            "RMSE: 0.9762\n"
          ]
        },
        {
          "output_type": "execute_result",
          "data": {
            "text/plain": [
              "0.9761770553445199"
            ]
          },
          "metadata": {},
          "execution_count": 33
        }
      ]
    },
    {
      "cell_type": "markdown",
      "metadata": {
        "id": "jGFPWExaVLNS"
      },
      "source": [
        "*Результат на тестовой выборке:*\n",
        "* *SVD c лучшими параметрами: RMSE = 0.96*\n",
        "* *KNNBasic c лучшими параметрами: RMSE = 0,97*"
      ]
    },
    {
      "cell_type": "markdown",
      "metadata": {
        "id": "quu2Pf5cLPgx"
      },
      "source": [
        "# Задание 3\n",
        "\n",
        "С помощью натренированной модели (любой из предыдущих) постройте по 3 рекомендации для каждого клиента из тестовой выборки.\n",
        "\n",
        "Проанализируйте полученные результаты: сколько раз был порекомендован каждый фильм? Каково распределение этих частот? (постройте гистограму)"
      ]
    },
    {
      "cell_type": "code",
      "metadata": {
        "id": "S7HWf4QYLPgx"
      },
      "source": [
        "# Ваш код тут"
      ],
      "execution_count": 34,
      "outputs": []
    },
    {
      "cell_type": "code",
      "metadata": {
        "colab": {
          "base_uri": "https://localhost:8080/",
          "height": 206
        },
        "id": "KHOvhfwXXZ8Q",
        "outputId": "93e129bc-14e2-4c7d-f002-6d4b5af0c845"
      },
      "source": [
        "# Вычисляем рейтинги фильмов для каждого клиента\n",
        "df_testset = pd.DataFrame(testset, columns=['uid','iid','rating'])\n",
        "df_testset = df_testset[['uid','iid']]\n",
        "\n",
        "recs = []\n",
        "for uid in df_testset['uid'].unique().tolist():\n",
        "    for iid in df_testset['iid'].unique().tolist():\n",
        "        score = algo.predict(uid, iid)[3]\n",
        "        recs.append( (int(uid), int(iid), score) )\n",
        "\n",
        "# Преобразовываем в DataFrame\n",
        "dfr = pd.DataFrame(recs, columns = ['uid','iid','score'])\n",
        "dfr[dfr['uid'] == 109].sort_values('score', ascending = False).head(5)"
      ],
      "execution_count": 40,
      "outputs": [
        {
          "output_type": "execute_result",
          "data": {
            "text/html": [
              "<div>\n",
              "<style scoped>\n",
              "    .dataframe tbody tr th:only-of-type {\n",
              "        vertical-align: middle;\n",
              "    }\n",
              "\n",
              "    .dataframe tbody tr th {\n",
              "        vertical-align: top;\n",
              "    }\n",
              "\n",
              "    .dataframe thead th {\n",
              "        text-align: right;\n",
              "    }\n",
              "</style>\n",
              "<table border=\"1\" class=\"dataframe\">\n",
              "  <thead>\n",
              "    <tr style=\"text-align: right;\">\n",
              "      <th></th>\n",
              "      <th>uid</th>\n",
              "      <th>iid</th>\n",
              "      <th>score</th>\n",
              "    </tr>\n",
              "  </thead>\n",
              "  <tbody>\n",
              "    <tr>\n",
              "      <th>249415</th>\n",
              "      <td>109</td>\n",
              "      <td>1189</td>\n",
              "      <td>5.000000</td>\n",
              "    </tr>\n",
              "    <tr>\n",
              "      <th>249559</th>\n",
              "      <td>109</td>\n",
              "      <td>1293</td>\n",
              "      <td>5.000000</td>\n",
              "    </tr>\n",
              "    <tr>\n",
              "      <th>249337</th>\n",
              "      <td>109</td>\n",
              "      <td>1368</td>\n",
              "      <td>4.870794</td>\n",
              "    </tr>\n",
              "    <tr>\n",
              "      <th>248488</th>\n",
              "      <td>109</td>\n",
              "      <td>318</td>\n",
              "      <td>4.806130</td>\n",
              "    </tr>\n",
              "    <tr>\n",
              "      <th>248613</th>\n",
              "      <td>109</td>\n",
              "      <td>1449</td>\n",
              "      <td>4.733915</td>\n",
              "    </tr>\n",
              "  </tbody>\n",
              "</table>\n",
              "</div>"
            ],
            "text/plain": [
              "        uid   iid     score\n",
              "249415  109  1189  5.000000\n",
              "249559  109  1293  5.000000\n",
              "249337  109  1368  4.870794\n",
              "248488  109   318  4.806130\n",
              "248613  109  1449  4.733915"
            ]
          },
          "metadata": {},
          "execution_count": 40
        }
      ]
    },
    {
      "cell_type": "code",
      "metadata": {
        "id": "8d2xGs-ipIcw"
      },
      "source": [
        "# Для каждого клиента, ранжируем рекомендации по значению скоров и нумеруем их \n",
        "dfr['rn'] = dfr.sort_values(['uid', 'score'], ascending=[True, False]).groupby(['uid']).cumcount()+1\n",
        "\n",
        "# Для каждого клиента отбираем по 3 записи с наибольшими значениями скорами \n",
        "dfr = dfr[dfr['rn'] <= 3]\n",
        "\n",
        "# Проверяем, что получилось (для каждого клиента должно остаться 3 фильма)\n",
        "dfr[:15]"
      ],
      "execution_count": null,
      "outputs": []
    },
    {
      "cell_type": "markdown",
      "metadata": {
        "id": "Ys8Sl3z8xtvY"
      },
      "source": [
        "##### Анализ результатов\n",
        "*Сколько раз был порекомендован каждый фильм? Каково распределение этих частот? (постройте гистограму)*"
      ]
    },
    {
      "cell_type": "code",
      "metadata": {
        "id": "jN0wxKU5ydrs"
      },
      "source": [
        "# Делаем датафрейм  #фильм-#cколько раз он был порекомендован \n",
        "\n",
        "df = dfr['iid']\\\n",
        ".value_counts()\\\n",
        ".to_frame()\\\n",
        ".rename(columns={'iid':'recs_counts'})\\\n",
        ".rename_axis('movieId')\\\n",
        ".sort_index()\n",
        "\n",
        "df.head(3)"
      ],
      "execution_count": null,
      "outputs": []
    },
    {
      "cell_type": "markdown",
      "metadata": {
        "id": "kYyvKulIeUM2"
      },
      "source": [
        "###### *Распределение без учета фильмов, которые ни разу не были рекомендованы*"
      ]
    },
    {
      "cell_type": "code",
      "metadata": {
        "id": "jeTe1zBAEUvU"
      },
      "source": [
        "# Распределение абсолютных значений случайной величины rec_counts (без учета фильмов, которые ни разу не были рекомендованы)\n",
        "s = df.value_counts().sort_index()\n",
        "print(\"Распределение исходов величины recs_count\")\n",
        "print(s[:5])\n",
        "\n",
        "# Распределение частоты значений случайной величины rec_counts (без учета фильмов, которые ни разу не были рекомендованы)\n",
        "sf = df.value_counts().sort_index()/(df.value_counts().sum())\n",
        "\n",
        "# Визуализируем\n",
        "fig, axs = plt.subplots(nrows = 1, ncols = 2, figsize=(10,4), tight_layout = True)\n",
        "axs = axs.flatten()\n",
        "\n",
        "#plt.title(\"Распределение величины recs_counts (без учета ни разу не рекомендованных фильмов)\")\n",
        "axs[0].set_title('Распределение абс.значений')\n",
        "s.plot(ax=axs[0])\n",
        "\n",
        "axs[1].set_title('Распределение частоты')\n",
        "sf.plot(ax=axs[1])\n",
        "\n"
      ],
      "execution_count": null,
      "outputs": []
    },
    {
      "cell_type": "markdown",
      "metadata": {
        "id": "LSeICHy4fE-x"
      },
      "source": [
        "###### *Распределение с учетом ни разу не показанных фильмов*\n",
        "\n",
        "*Видно, что кол-во фильмов, которые ни разу не были рекомендованы (\\~1300, recs_counts = 0), на порядок превышает кол-во рекомендованных фильмов (\\~130)*\n"
      ]
    },
    {
      "cell_type": "code",
      "metadata": {
        "colab": {
          "base_uri": "https://localhost:8080/",
          "height": 370
        },
        "id": "zSTTzDSueFZd",
        "outputId": "b3712551-9997-4ca7-e9ef-5aa197fab78a"
      },
      "source": [
        "# Добавим в датафрейм записи с recs_count = 0 в кол-ве равном кол-ву ни разу не \n",
        "# рекомендованных фильмов\n",
        "#\n",
        "# total_recs_count_0 =  [Кол-во фильмов в датасете] - [Кол-во рекомандованных фильмов]\n",
        "\n",
        "total_recs_count_0 = df_testset['iid'].unique().size - dfr['iid'].unique().size\n",
        "print(\"\")\n",
        "print(f\"Кол-во исходов у которых recs_count = 0: {total_recs_count_0}\")\n",
        "print(\"\")\n",
        "\n",
        "# Добавляем\n",
        "df2 = df.append(\n",
        "    pd.Series(np.zeros(total_recs_count_0))\\\n",
        "    .to_frame()\\\n",
        "    .rename(columns = {0:'recs_counts'})\n",
        "    )\n",
        "\n",
        "# Распределение абс.велчин\n",
        "s = df2.value_counts().sort_index()\n",
        "\n",
        "# Распределение частов, частота = абс.велчин/total \n",
        "sf = df2.value_counts().sort_index()/(df2.value_counts().sum())\n",
        "\n",
        "# Визуализируем\n",
        "fig, axs = plt.subplots(nrows = 2, ncols = 2, figsize=(10,4), tight_layout = True)\n",
        "axs = axs.flatten()\n",
        "\n",
        "plt.title(\"распределение случайной величины recs_counts с учетом ни разу не показанных фильмов\")\n",
        "\n",
        "s.plot(ax = axs[0])\n",
        "axs[0].set_title(\"Abs values, Normal scale\")\n",
        "\n",
        "axs[1].set_yscale('log')\n",
        "s.plot(ax = axs[1])\n",
        "axs[1].set_title(\"Abs values, Log scale\")\n",
        "\n",
        "sf.plot(ax = axs[2])\n",
        "axs[2].set_title(\"Frequency, Normal scale\")\n",
        "\n",
        "axs[3].set_yscale('log')\n",
        "sf.plot(ax = axs[3])\n",
        "axs[3].set_title(\"Frequency, Log scale\")"
      ],
      "execution_count": 39,
      "outputs": [
        {
          "metadata": {
            "tags": null
          },
          "name": "stdout",
          "output_type": "stream",
          "text": [
            "\n",
            "Кол-во исходов у которых recs_count = 0: 1393\n",
            "\n"
          ]
        },
        {
          "data": {
            "text/plain": [
              "Text(0.5, 1.0, 'Frequency, Log scale')"
            ]
          },
          "execution_count": null,
          "metadata": {},
          "output_type": "execute_result"
        },
        {
          "data": {
            "image/png": "[encoded data removed]",
            "text/plain": [
              "<Figure size 720x288 with 4 Axes>"
            ]
          },
          "metadata": {},
          "output_type": "display_data"
        }
      ]
    },
    {
      "cell_type": "markdown",
      "metadata": {
        "id": "-zyDFTn-LPgx"
      },
      "source": [
        "# Задание 4 * (Дополнительное)\n",
        "\n",
        "В оригинальных данных есть поле `timestamp` (см. момент загрузки данных).\n",
        "\n",
        "Используя оптимальный вариант модели (и её гиперпараметров), найденный выше, проведите кросс-валидацию в стиле временного ряда (см. [документацию sklearn](https://scikit-learn.org/stable/modules/cross_validation.html#time-series-split)). Достаточно использовать 5 частей. Иными словами, нужно раделить выборку на равные части, каждая из которых будет соответствовать последовательным временным промежуткам.\n",
        "\n",
        "![](https://scikit-learn.org/stable/_images/sphx_glr_plot_cv_indices_010.png)\n",
        "\n",
        "Нашли ли вы отличия с предыдущей валидацией?"
      ]
    },
    {
      "cell_type": "code",
      "metadata": {
        "id": "MtnH6hJFLPgx"
      },
      "source": [
        "# Ваш код тут"
      ],
      "execution_count": null,
      "outputs": []
    },
    {
      "cell_type": "markdown",
      "metadata": {
        "id": "vkAKpm3DuACV"
      },
      "source": [
        "###### Вариант 1. c TimeSeriesSplit\n",
        "*Визуализация TimeSeriesSplit - фолдов (картинка из sci-learn). У нас будет 5 фолдов с налогичным распредедением train и test частей*\n",
        "\n",
        "![image.png](data:image/png;base64,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)"
      ]
    },
    {
      "cell_type": "code",
      "metadata": {
        "colab": {
          "base_uri": "https://localhost:8080/"
        },
        "id": "aHpYyrpIXJjC",
        "outputId": "68ee0668-5b2f-4e4f-bff3-55c9fd581f04"
      },
      "source": [
        "df_n = pd.DataFrame(raw_ratings, columns=[\"userId\", \"movieId\", \"rating\", \"timestamp\"])\n",
        "df_n_sorted = df_n.sort_values(by='timestamp')\n",
        "df_n_sorted.to_numpy()"
      ],
      "execution_count": 86,
      "outputs": [
        {
          "output_type": "execute_result",
          "data": {
            "text/plain": [
              "array([['259', '255', 4.0, '874724710'],\n",
              "       ['259', '286', 4.0, '874724727'],\n",
              "       ['259', '298', 4.0, '874724754'],\n",
              "       ...,\n",
              "       ['729', '328', 3.0, '893286638'],\n",
              "       ['729', '748', 4.0, '893286638'],\n",
              "       ['729', '272', 4.0, '893286638']], dtype=object)"
            ]
          },
          "metadata": {},
          "execution_count": 86
        }
      ]
    },
    {
      "cell_type": "code",
      "metadata": {
        "colab": {
          "base_uri": "https://localhost:8080/"
        },
        "id": "w6cTOofm_Qfd",
        "outputId": "2ef9d8f4-0be6-4412-9d47-90ff0b06c346"
      },
      "source": [
        "import numpy as np\n",
        "from sklearn.model_selection import TimeSeriesSplit\n",
        "from surprise import SVD\n",
        "from surprise import Dataset\n",
        "from surprise import accuracy\n",
        "from surprise import Reader\n",
        "from surprise.model_selection import train_test_split\n",
        "\n",
        "n_splits = 5\n",
        "\n",
        "# Для создания traindataset & testdataset используем методику \n",
        "# https://surprise.readthedocs.io/en/stable/FAQ.html?highlight=how%20to%20save%20some%20data#how-to-save-some-data-for-unbiased-accuracy-estimation\n",
        "\n",
        "# Перегружаем датасет, чтобы не мешала старая разбивка на test/train\n",
        "\n",
        "data = Dataset.load_builtin(\"ml-100k\", prompt=False)\n",
        "\n",
        "# Сортируем исходный датасет\n",
        "# Затем вручную разделяем data на A_raw_raitings и B_raw_ratings\n",
        "# A_raw_ratings используем для кросс-валидации\n",
        "# B_raw_ratings используем для оценки algo после обучения\n",
        "raw_ratings = data.raw_ratings\n",
        "\n",
        "df_n = pd.DataFrame(raw_ratings, columns=[\"userId\", \"movieId\", \"rating\", \"timestamp\"])\n",
        "df_n_sorted = df_n.sort_values(by='timestamp')\n",
        "raw_ratings = df_n_sorted.to_numpy()\n",
        "\n",
        "threshold = int(.75 * len(raw_ratings))\n",
        "A_raw_ratings = raw_ratings[:threshold]\n",
        "B_raw_ratings = raw_ratings[threshold:]\n",
        "\n",
        "# data теперь A_raw_ratings\n",
        "data.raw_ratings = A_raw_ratings\n",
        "\n",
        "# Для TimeSeriesSplit делаем df\n",
        "df = pd.DataFrame(data.raw_ratings, columns=[\"userId\", \"movieId\", \"rating\", \"timestamp\"])\n",
        "\n",
        "# Нужен для создания data из pd.df\n",
        "reader = Reader( rating_scale=(1,5) )\n",
        "\n",
        "tscv = TimeSeriesSplit(gap=0, n_splits=n_splits)\n",
        "\n",
        "algo = gs_svd.best_estimator['rmse']\n",
        "\n",
        "acc = []\n",
        "fold = 0\n",
        "for idx_train, idx_test in tscv.split(df):\n",
        "\n",
        "    print(\"\")\n",
        "    print(f\"len(idx_train) = {len(idx_train)}, len(idx_test) = {len(idx_test)}\")\n",
        "    print(idx_train[:2],\"...\",idx_train[-1:-3:-1], idx_test[:2],\"...\", idx_test[-1:-3:-1])\n",
        "    \n",
        "    # формируем data и на ней формируем trainset и testset\n",
        "    df_sample = df.iloc[0:idx_test[-1]]  # train + test\n",
        "    data_sample = Dataset.load_from_df(df_sample[[\"userId\", \"movieId\", \"rating\"]], reader)\n",
        "\n",
        "    #X_train = data_sample.raw_ratings[:idx_train[-1]]\n",
        "    X_test  = data_sample.raw_ratings[idx_test[0]:]\n",
        "    \n",
        "    trainset = data_sample.build_full_trainset()\n",
        "    testset = data_sample.construct_testset(X_test)\n",
        "    \n",
        "    # обучаем/предсказываем/оцениваем\n",
        "    algo.fit(trainset)\n",
        "    acc.append( accuracy.rmse( algo.test(testset), verbose=False ) )\n",
        "    print(f\"iteration={fold+1}, accuracy (testset) = {acc[-1]:.4f}\")\n",
        "\n",
        "    fold += 1\n",
        "\n",
        "print(\"\")\n",
        "print(f\" MEAN accuracy on (testset) = {np.array(acc).mean():.4f}\")\n",
        "print(f\"[MEAN - 3*STD, MEAN + 3*STD]: [{np.array(acc).mean() - 3*np.array(acc).std():.4f}, {np.array(acc).mean() + 3*np.array(acc).std():.4f}]\")\n",
        "print(\"\")\n",
        "\n",
        "\n",
        "# Определяем качество на отложенной выборке B_raw_ratings\n",
        "# Теперь обучаем на полном датасете A_raw_ratings\n",
        "a_trainset = data.build_full_trainset()\n",
        "algo.fit(a_trainset)\n",
        "\n",
        "b_testset = data.construct_testset(B_raw_ratings)  # testset is now the set B\n",
        "predictions = algo.test(b_testset)\n",
        "\n",
        "print(f\"Accuracy on B_testset = {accuracy.rmse( algo.test(b_testset), verbose=False ):.4f}\") \n",
        "\n"
      ],
      "execution_count": 88,
      "outputs": [
        {
          "output_type": "stream",
          "name": "stdout",
          "text": [
            "\n",
            "len(idx_train) = 12500, len(idx_test) = 12500\n",
            "[0 1] ... [12499 12498] [12500 12501] ... [24999 24998]\n",
            "iteration=1, accuracy (testset) = 0.9253\n",
            "\n",
            "len(idx_train) = 25000, len(idx_test) = 12500\n",
            "[0 1] ... [24999 24998] [25000 25001] ... [37499 37498]\n",
            "iteration=2, accuracy (testset) = 0.9036\n",
            "\n",
            "len(idx_train) = 37500, len(idx_test) = 12500\n",
            "[0 1] ... [37499 37498] [37500 37501] ... [49999 49998]\n",
            "iteration=3, accuracy (testset) = 0.9478\n",
            "\n",
            "len(idx_train) = 50000, len(idx_test) = 12500\n",
            "[0 1] ... [49999 49998] [50000 50001] ... [62499 62498]\n",
            "iteration=4, accuracy (testset) = 0.9478\n",
            "\n",
            "len(idx_train) = 62500, len(idx_test) = 12500\n",
            "[0 1] ... [62499 62498] [62500 62501] ... [74999 74998]\n",
            "iteration=5, accuracy (testset) = 0.9576\n",
            "\n",
            " MEAN accuracy on (testset) = 0.9364\n",
            "[MEAN - 3*STD, MEAN + 3*STD]: [0.8778, 0.9950]\n",
            "\n",
            "Accuracy on B_testset = 1.0447\n"
          ]
        }
      ]
    },
    {
      "cell_type": "code",
      "metadata": {
        "colab": {
          "base_uri": "https://localhost:8080/"
        },
        "id": "7sLXxHwobQpS",
        "outputId": "7acfbe53-d90a-41f2-bdee-30241b99573d"
      },
      "source": [
        "testset[:2]"
      ],
      "execution_count": 100,
      "outputs": [
        {
          "output_type": "stream",
          "name": "stdout",
          "text": [
            "[0, 1, 2, 3, 4, 5, 6, 7, 8, 9, 10, 11, 12, 13, 14, 15, 16, 17, 18, 19, 20, 21, 22, 23, 24, 25, 26, 27, 28, 29, 30, 31, 32, 33, 34, 35, 36, 37, 38, 39, 40, 41, 42, 43, 44, 45, 46, 47, 48, 49, 50, 51, 52, 53, 54, 55, 56, 57, 58, 59, 60, 61, 62, 63, 64, 65, 66, 67, 68, 69, 70, 71, 72, 73, 74, 75, 76, 77, 78, 79, 80, 81, 82, 83, 84, 85, 86, 87, 88, 89, 90, 91, 92, 93, 94, 95, 96, 97, 98, 99, 100, 101, 102, 103, 104, 105, 106, 107, 108, 109, 110, 111, 112, 113, 114, 115, 116, 117, 118, 119, 120, 121, 122, 123, 124, 125, 126, 127, 128, 129, 130, 131, 132, 133, 134, 135, 136, 137, 138, 139, 140, 141, 142, 143, 144, 145, 146, 147, 148, 149, 150, 151, 152, 153, 154, 155, 156, 157, 158, 159, 160, 161, 162, 163, 164, 165, 166, 167, 168, 169, 170, 171, 172, 173, 174, 175, 176, 177, 178, 179, 180, 181, 182, 183, 184, 185, 186, 187, 188, 189, 190, 191, 192, 193, 194, 195, 196, 197, 198, 199, 200, 201, 202, 203, 204, 205, 206, 207, 208, 209, 210, 211, 212, 213, 214, 215, 216, 217, 218, 219, 220, 221, 222, 223, 224, 225, 226, 227, 228, 229, 230, 231, 232, 233, 234, 235, 236, 237, 238, 239, 240, 241, 242, 243, 244, 245, 246, 247, 248, 249, 250, 251, 252, 253, 254, 255, 256, 257, 258, 259, 260, 261, 262, 263, 264, 265, 266, 267, 268, 269, 270, 271, 272, 273, 274, 275, 276, 277, 278, 279, 280, 281, 282, 283, 284, 285, 286, 287, 288, 289, 290, 291, 292, 293, 294, 295, 296, 297, 298, 299, 300, 301, 302, 303, 304, 305, 306, 307, 308, 309, 310, 311, 312, 313, 314, 315, 316, 317, 318, 319, 320, 321, 322, 323, 324, 325, 326, 327, 328, 329, 330, 331, 332, 333, 334, 335, 336, 337, 338, 339, 340, 341, 342, 343, 344, 345, 346, 347, 348, 349, 350, 351, 352, 353, 354, 355, 356, 357, 358, 359, 360, 361, 362, 363, 364, 365, 366, 367, 368, 369, 370, 371, 372, 373, 374, 375, 376, 377, 378, 379, 380, 381, 382, 383, 384, 385, 386, 387, 388, 389, 390, 391, 392, 393, 394, 395, 396, 397, 398, 399, 400, 401, 402, 403, 404, 405, 406, 407, 408, 409, 410, 411, 412, 413, 414, 415, 416, 417, 418, 419, 420, 421, 422, 423, 424, 425, 426, 427, 428, 429, 430, 431, 432, 433, 434, 435, 436, 437, 438, 439, 440, 441, 442, 443, 444, 445, 446, 447, 448, 449, 450, 451, 452, 453, 454, 455, 456, 457, 458, 459, 460, 461, 462, 463, 464, 465, 466, 467, 468, 469, 470, 471, 472, 473, 474, 475, 476, 477, 478, 479, 480, 481, 482, 483, 484, 485, 486, 487, 488, 489, 490, 491, 492, 493, 494, 495, 496, 497, 498, 499, 500, 501, 502, 503, 504, 505, 506, 507, 508, 509, 510, 511, 512, 513, 514, 515, 516, 517, 518, 519, 520, 521, 522, 523, 524, 525, 526, 527, 528, 529, 530, 531, 532, 533, 534, 535, 536, 537, 538, 539, 540, 541, 542, 543, 544, 545, 546, 547, 548, 549, 550, 551, 552, 553, 554, 555, 556, 557, 558, 559, 560, 561, 562, 563, 564, 565, 566, 567, 568, 569, 570, 571, 572, 573, 574, 575, 576, 577, 578, 579, 580, 581, 582, 583, 584, 585, 586, 587, 588, 589, 590, 591, 592, 593, 594, 595, 596, 597, 598, 599, 600, 601, 602, 603, 604, 605, 606, 607, 608, 609, 610, 611, 612, 613, 614, 615, 616, 617, 618, 619, 620, 621, 622, 623, 624, 625, 626, 627, 628, 629, 630, 631, 632, 633, 634, 635, 636, 637, 638, 639, 640, 641, 642, 643, 644, 645, 646, 647, 648, 649, 650, 651, 652, 653, 654, 655, 656, 657, 658, 659, 660, 661, 662, 663, 664, 665, 666, 667, 668, 669, 670, 671, 672, 673, 674, 675, 676, 677, 678, 679, 680, 681, 682, 683, 684, 685, 686, 687, 688, 689, 690, 691, 692, 693, 694, 695, 696, 697, 698, 699, 700, 701, 702, 703, 704, 705, 706, 707]\n"
          ]
        }
      ]
    },
    {
      "cell_type": "markdown",
      "metadata": {
        "id": "t612NUdYWLb4"
      },
      "source": [
        "###### Вариант2. Выборка разделяется на 5 равных частей по времени"
      ]
    },
    {
      "cell_type": "code",
      "metadata": {
        "colab": {
          "base_uri": "https://localhost:8080/",
          "height": 424
        },
        "id": "Ex_r-b_vWxrT",
        "outputId": "d47366dc-0c23-42dc-d2eb-3f35a67bd1a0"
      },
      "source": [
        "df = pd.DataFrame(raw_ratings, columns=[\"userId\", \"movieId\", \"rating\", \"timestamp\"])\n",
        "\n",
        "df"
      ],
      "execution_count": 80,
      "outputs": [
        {
          "output_type": "execute_result",
          "data": {
            "text/html": [
              "<div>\n",
              "<style scoped>\n",
              "    .dataframe tbody tr th:only-of-type {\n",
              "        vertical-align: middle;\n",
              "    }\n",
              "\n",
              "    .dataframe tbody tr th {\n",
              "        vertical-align: top;\n",
              "    }\n",
              "\n",
              "    .dataframe thead th {\n",
              "        text-align: right;\n",
              "    }\n",
              "</style>\n",
              "<table border=\"1\" class=\"dataframe\">\n",
              "  <thead>\n",
              "    <tr style=\"text-align: right;\">\n",
              "      <th></th>\n",
              "      <th>userId</th>\n",
              "      <th>movieId</th>\n",
              "      <th>rating</th>\n",
              "      <th>timestamp</th>\n",
              "    </tr>\n",
              "  </thead>\n",
              "  <tbody>\n",
              "    <tr>\n",
              "      <th>0</th>\n",
              "      <td>196</td>\n",
              "      <td>242</td>\n",
              "      <td>3.0</td>\n",
              "      <td>881250949</td>\n",
              "    </tr>\n",
              "    <tr>\n",
              "      <th>1</th>\n",
              "      <td>186</td>\n",
              "      <td>302</td>\n",
              "      <td>3.0</td>\n",
              "      <td>891717742</td>\n",
              "    </tr>\n",
              "    <tr>\n",
              "      <th>2</th>\n",
              "      <td>22</td>\n",
              "      <td>377</td>\n",
              "      <td>1.0</td>\n",
              "      <td>878887116</td>\n",
              "    </tr>\n",
              "    <tr>\n",
              "      <th>3</th>\n",
              "      <td>244</td>\n",
              "      <td>51</td>\n",
              "      <td>2.0</td>\n",
              "      <td>880606923</td>\n",
              "    </tr>\n",
              "    <tr>\n",
              "      <th>4</th>\n",
              "      <td>166</td>\n",
              "      <td>346</td>\n",
              "      <td>1.0</td>\n",
              "      <td>886397596</td>\n",
              "    </tr>\n",
              "    <tr>\n",
              "      <th>...</th>\n",
              "      <td>...</td>\n",
              "      <td>...</td>\n",
              "      <td>...</td>\n",
              "      <td>...</td>\n",
              "    </tr>\n",
              "    <tr>\n",
              "      <th>99995</th>\n",
              "      <td>880</td>\n",
              "      <td>476</td>\n",
              "      <td>3.0</td>\n",
              "      <td>880175444</td>\n",
              "    </tr>\n",
              "    <tr>\n",
              "      <th>99996</th>\n",
              "      <td>716</td>\n",
              "      <td>204</td>\n",
              "      <td>5.0</td>\n",
              "      <td>879795543</td>\n",
              "    </tr>\n",
              "    <tr>\n",
              "      <th>99997</th>\n",
              "      <td>276</td>\n",
              "      <td>1090</td>\n",
              "      <td>1.0</td>\n",
              "      <td>874795795</td>\n",
              "    </tr>\n",
              "    <tr>\n",
              "      <th>99998</th>\n",
              "      <td>13</td>\n",
              "      <td>225</td>\n",
              "      <td>2.0</td>\n",
              "      <td>882399156</td>\n",
              "    </tr>\n",
              "    <tr>\n",
              "      <th>99999</th>\n",
              "      <td>12</td>\n",
              "      <td>203</td>\n",
              "      <td>3.0</td>\n",
              "      <td>879959583</td>\n",
              "    </tr>\n",
              "  </tbody>\n",
              "</table>\n",
              "<p>100000 rows × 4 columns</p>\n",
              "</div>"
            ],
            "text/plain": [
              "      userId movieId  rating  timestamp\n",
              "0        196     242     3.0  881250949\n",
              "1        186     302     3.0  891717742\n",
              "2         22     377     1.0  878887116\n",
              "3        244      51     2.0  880606923\n",
              "4        166     346     1.0  886397596\n",
              "...      ...     ...     ...        ...\n",
              "99995    880     476     3.0  880175444\n",
              "99996    716     204     5.0  879795543\n",
              "99997    276    1090     1.0  874795795\n",
              "99998     13     225     2.0  882399156\n",
              "99999     12     203     3.0  879959583\n",
              "\n",
              "[100000 rows x 4 columns]"
            ]
          },
          "metadata": {},
          "execution_count": 80
        }
      ]
    },
    {
      "cell_type": "code",
      "metadata": {
        "id": "U8VR0rXSWaiW"
      },
      "source": [
        "import numpy as np\n",
        "from sklearn.model_selection import TimeSeriesSplit\n",
        "from surprise import SVD\n",
        "from surprise import Dataset\n",
        "from surprise import accuracy\n",
        "from surprise import Reader\n",
        "from surprise.model_selection import train_test_split\n",
        "\n",
        "n_splits = 5\n",
        "\n",
        "# Для создания traindataset & testdataset используем методику \n",
        "# https://surprise.readthedocs.io/en/stable/FAQ.html?highlight=how%20to%20save%20some%20data#how-to-save-some-data-for-unbiased-accuracy-estimation\n",
        "\n",
        "# Перегружаем датасет, чтобы не мешала старая разбивка на test/train\n",
        "\n",
        "data = Dataset.load_builtin(\"ml-100k\", prompt=False)\n",
        "\n",
        "# Вручную разделяем data на A_raw_raitings и B_raw_ratings\n",
        "# A_raw_ratings используем для кросс-валидации\n",
        "# B_raw_ratings используем для оценки algo после обучения\n",
        "raw_ratings = data.raw_ratings\n",
        "threshold = int(.75 * len(raw_ratings))\n",
        "A_raw_ratings = raw_ratings[:threshold]\n",
        "B_raw_ratings = raw_ratings[threshold:]\n",
        "\n",
        "# data теперь A_raw_ratings\n",
        "data.raw_ratings = A_raw_ratings\n",
        "\n",
        "# Для TimeSeriesSplit делаем df\n",
        "df = pd.DataFrame(data.raw_ratings, columns=[\"userId\", \"movieId\", \"rating\", \"timestamp\"])"
      ],
      "execution_count": null,
      "outputs": []
    },
    {
      "cell_type": "code",
      "metadata": {
        "colab": {
          "base_uri": "https://localhost:8080/"
        },
        "id": "b59q1yL5IFFX",
        "outputId": "af94819d-caa4-488a-f68b-38f9f4e0e9f2"
      },
      "source": [
        "a = [1,2,3,4,5]\n",
        "np.array(a).mean()"
      ],
      "execution_count": 46,
      "outputs": [
        {
          "output_type": "execute_result",
          "data": {
            "text/plain": [
              "3.0"
            ]
          },
          "metadata": {},
          "execution_count": 46
        }
      ]
    },
    {
      "cell_type": "code",
      "metadata": {
        "colab": {
          "base_uri": "https://localhost:8080/",
          "height": 424
        },
        "id": "zHVrcdsO_zgY",
        "outputId": "e1da24d6-80c0-4581-869f-57a5a544750c"
      },
      "source": [
        "data.raw_ratings = X_train\n",
        "trainset = data.build_full_trainset()\n",
        "#print(trainset) \n",
        "\n",
        "#algo.fit(trainset)\n",
        "\n",
        "#testset = data.construct_testset(X_test)\n",
        "#print(testset)\n",
        "#predictions = algo.test(testset)\n",
        "#print(predictions)\n",
        "#accuracy.rmse(predictions)\n",
        "df_train"
      ],
      "execution_count": 73,
      "outputs": [
        {
          "output_type": "execute_result",
          "data": {
            "text/html": [
              "<div>\n",
              "<style scoped>\n",
              "    .dataframe tbody tr th:only-of-type {\n",
              "        vertical-align: middle;\n",
              "    }\n",
              "\n",
              "    .dataframe tbody tr th {\n",
              "        vertical-align: top;\n",
              "    }\n",
              "\n",
              "    .dataframe thead th {\n",
              "        text-align: right;\n",
              "    }\n",
              "</style>\n",
              "<table border=\"1\" class=\"dataframe\">\n",
              "  <thead>\n",
              "    <tr style=\"text-align: right;\">\n",
              "      <th></th>\n",
              "      <th>userId</th>\n",
              "      <th>movieId</th>\n",
              "      <th>rating</th>\n",
              "      <th>timestamp</th>\n",
              "    </tr>\n",
              "  </thead>\n",
              "  <tbody>\n",
              "    <tr>\n",
              "      <th>0</th>\n",
              "      <td>196</td>\n",
              "      <td>242</td>\n",
              "      <td>3.0</td>\n",
              "      <td>881250949</td>\n",
              "    </tr>\n",
              "    <tr>\n",
              "      <th>1</th>\n",
              "      <td>186</td>\n",
              "      <td>302</td>\n",
              "      <td>3.0</td>\n",
              "      <td>891717742</td>\n",
              "    </tr>\n",
              "    <tr>\n",
              "      <th>2</th>\n",
              "      <td>22</td>\n",
              "      <td>377</td>\n",
              "      <td>1.0</td>\n",
              "      <td>878887116</td>\n",
              "    </tr>\n",
              "    <tr>\n",
              "      <th>3</th>\n",
              "      <td>244</td>\n",
              "      <td>51</td>\n",
              "      <td>2.0</td>\n",
              "      <td>880606923</td>\n",
              "    </tr>\n",
              "    <tr>\n",
              "      <th>4</th>\n",
              "      <td>166</td>\n",
              "      <td>346</td>\n",
              "      <td>1.0</td>\n",
              "      <td>886397596</td>\n",
              "    </tr>\n",
              "    <tr>\n",
              "      <th>...</th>\n",
              "      <td>...</td>\n",
              "      <td>...</td>\n",
              "      <td>...</td>\n",
              "      <td>...</td>\n",
              "    </tr>\n",
              "    <tr>\n",
              "      <th>16665</th>\n",
              "      <td>361</td>\n",
              "      <td>762</td>\n",
              "      <td>2.0</td>\n",
              "      <td>879440774</td>\n",
              "    </tr>\n",
              "    <tr>\n",
              "      <th>16666</th>\n",
              "      <td>360</td>\n",
              "      <td>127</td>\n",
              "      <td>5.0</td>\n",
              "      <td>880354149</td>\n",
              "    </tr>\n",
              "    <tr>\n",
              "      <th>16667</th>\n",
              "      <td>256</td>\n",
              "      <td>834</td>\n",
              "      <td>3.0</td>\n",
              "      <td>882163956</td>\n",
              "    </tr>\n",
              "    <tr>\n",
              "      <th>16668</th>\n",
              "      <td>93</td>\n",
              "      <td>235</td>\n",
              "      <td>4.0</td>\n",
              "      <td>888705939</td>\n",
              "    </tr>\n",
              "    <tr>\n",
              "      <th>16669</th>\n",
              "      <td>405</td>\n",
              "      <td>1109</td>\n",
              "      <td>1.0</td>\n",
              "      <td>885548632</td>\n",
              "    </tr>\n",
              "  </tbody>\n",
              "</table>\n",
              "<p>16670 rows × 4 columns</p>\n",
              "</div>"
            ],
            "text/plain": [
              "      userId movieId  rating  timestamp\n",
              "0        196     242     3.0  881250949\n",
              "1        186     302     3.0  891717742\n",
              "2         22     377     1.0  878887116\n",
              "3        244      51     2.0  880606923\n",
              "4        166     346     1.0  886397596\n",
              "...      ...     ...     ...        ...\n",
              "16665    361     762     2.0  879440774\n",
              "16666    360     127     5.0  880354149\n",
              "16667    256     834     3.0  882163956\n",
              "16668     93     235     4.0  888705939\n",
              "16669    405    1109     1.0  885548632\n",
              "\n",
              "[16670 rows x 4 columns]"
            ]
          },
          "metadata": {},
          "execution_count": 73
        }
      ]
    },
    {
      "cell_type": "code",
      "metadata": {
        "colab": {
          "base_uri": "https://localhost:8080/"
        },
        "id": "Yh_o80yQQ2B-",
        "outputId": "8427a9e4-f317-4b0b-cc2e-a566fe7a821b"
      },
      "source": [
        "df_sample.shape"
      ],
      "execution_count": 109,
      "outputs": [
        {
          "output_type": "execute_result",
          "data": {
            "text/plain": [
              "(33335, 4)"
            ]
          },
          "metadata": {},
          "execution_count": 109
        }
      ]
    },
    {
      "cell_type": "code",
      "metadata": {
        "colab": {
          "base_uri": "https://localhost:8080/",
          "height": 341
        },
        "id": "3ZKaBgYfN3cE",
        "outputId": "f5b7b8e0-05dd-445d-9e49-06e88f806e38"
      },
      "source": [
        "df_test[['userId', 'movieId', 'rating']].to_numpy()\n",
        "testset = data.construct_testset(df_test[[\"userId\", \"movieId\", \"rating\"]].to_numpy())"
      ],
      "execution_count": 106,
      "outputs": [
        {
          "output_type": "error",
          "ename": "ValueError",
          "evalue": "ignored",
          "traceback": [
            "\u001b[0;31m---------------------------------------------------------------------------\u001b[0m",
            "\u001b[0;31mValueError\u001b[0m                                Traceback (most recent call last)",
            "\u001b[0;32m<ipython-input-106-e0dc3644c066>\u001b[0m in \u001b[0;36m<module>\u001b[0;34m()\u001b[0m\n\u001b[1;32m      1\u001b[0m \u001b[0mdf_test\u001b[0m\u001b[0;34m[\u001b[0m\u001b[0;34m[\u001b[0m\u001b[0;34m'userId'\u001b[0m\u001b[0;34m,\u001b[0m \u001b[0;34m'movieId'\u001b[0m\u001b[0;34m,\u001b[0m \u001b[0;34m'rating'\u001b[0m\u001b[0;34m]\u001b[0m\u001b[0;34m]\u001b[0m\u001b[0;34m.\u001b[0m\u001b[0mto_numpy\u001b[0m\u001b[0;34m(\u001b[0m\u001b[0;34m)\u001b[0m\u001b[0;34m\u001b[0m\u001b[0;34m\u001b[0m\u001b[0m\n\u001b[0;32m----> 2\u001b[0;31m \u001b[0mtestset\u001b[0m \u001b[0;34m=\u001b[0m \u001b[0mdata\u001b[0m\u001b[0;34m.\u001b[0m\u001b[0mconstruct_testset\u001b[0m\u001b[0;34m(\u001b[0m\u001b[0mdf_test\u001b[0m\u001b[0;34m[\u001b[0m\u001b[0;34m[\u001b[0m\u001b[0;34m\"userId\"\u001b[0m\u001b[0;34m,\u001b[0m \u001b[0;34m\"movieId\"\u001b[0m\u001b[0;34m,\u001b[0m \u001b[0;34m\"rating\"\u001b[0m\u001b[0;34m]\u001b[0m\u001b[0;34m]\u001b[0m\u001b[0;34m.\u001b[0m\u001b[0mto_numpy\u001b[0m\u001b[0;34m(\u001b[0m\u001b[0;34m)\u001b[0m\u001b[0;34m)\u001b[0m\u001b[0;34m\u001b[0m\u001b[0;34m\u001b[0m\u001b[0m\n\u001b[0m",
            "\u001b[0;32m/usr/local/lib/python3.7/dist-packages/surprise/dataset.py\u001b[0m in \u001b[0;36mconstruct_testset\u001b[0;34m(self, raw_testset)\u001b[0m\n\u001b[1;32m    220\u001b[0m \u001b[0;34m\u001b[0m\u001b[0m\n\u001b[1;32m    221\u001b[0m         return [(ruid, riid, r_ui_trans)\n\u001b[0;32m--> 222\u001b[0;31m                 for (ruid, riid, r_ui_trans, _) in raw_testset]\n\u001b[0m\u001b[1;32m    223\u001b[0m \u001b[0;34m\u001b[0m\u001b[0m\n\u001b[1;32m    224\u001b[0m \u001b[0;34m\u001b[0m\u001b[0m\n",
            "\u001b[0;32m/usr/local/lib/python3.7/dist-packages/surprise/dataset.py\u001b[0m in \u001b[0;36m<listcomp>\u001b[0;34m(.0)\u001b[0m\n\u001b[1;32m    220\u001b[0m \u001b[0;34m\u001b[0m\u001b[0m\n\u001b[1;32m    221\u001b[0m         return [(ruid, riid, r_ui_trans)\n\u001b[0;32m--> 222\u001b[0;31m                 for (ruid, riid, r_ui_trans, _) in raw_testset]\n\u001b[0m\u001b[1;32m    223\u001b[0m \u001b[0;34m\u001b[0m\u001b[0m\n\u001b[1;32m    224\u001b[0m \u001b[0;34m\u001b[0m\u001b[0m\n",
            "\u001b[0;31mValueError\u001b[0m: not enough values to unpack (expected 4, got 3)"
          ]
        }
      ]
    },
    {
      "cell_type": "code",
      "metadata": {
        "colab": {
          "base_uri": "https://localhost:8080/"
        },
        "id": "2zu-G-LTJNvY",
        "outputId": "c763be2e-3a4b-4e64-a6e8-26db16d8ee2c"
      },
      "source": [
        "a = [1,2,3,4,5,6,7,8,9]\n",
        "a[-1:-4:-1]"
      ],
      "execution_count": 96,
      "outputs": [
        {
          "output_type": "execute_result",
          "data": {
            "text/plain": [
              "[9, 8, 7]"
            ]
          },
          "metadata": {},
          "execution_count": 96
        }
      ]
    },
    {
      "cell_type": "code",
      "metadata": {
        "id": "Hz4PjMsuGh53"
      },
      "source": [
        "\n",
        "cross_validate(algo, data, measures=[\"RMSE\", \"MAE\"], cv=5, verbose=True)\n",
        "\n",
        "\n",
        "algo.fit(trainset)\n",
        "predictions = algo.test(testset)\n",
        "\n",
        "\n",
        "\n",
        "TimeSeriesSplit(gap=0, max_train_size=None, n_splits=3, test_size=None)\n",
        ">>> for train, test in tscv.split(X):\n",
        "...     print(\"%s %s\" % (train, test))\n",
        "[0 1 2] [3]\n",
        "[0 1 2 3] [4]\n",
        "[0 1 2 3 4] [5]"
      ],
      "execution_count": null,
      "outputs": []
    },
    {
      "cell_type": "code",
      "metadata": {
        "id": "jicHl-CzveJA"
      },
      "source": [
        ""
      ],
      "execution_count": null,
      "outputs": []
    },
    {
      "cell_type": "markdown",
      "metadata": {
        "id": "MiKl89z7vPw_"
      },
      "source": [
        "# Новый раздел"
      ]
    }
  ]
}